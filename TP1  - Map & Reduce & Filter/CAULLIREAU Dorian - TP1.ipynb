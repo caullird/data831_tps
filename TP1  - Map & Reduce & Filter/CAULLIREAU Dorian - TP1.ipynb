{
  "cells": [
    {
      "cell_type": "markdown",
      "metadata": {
        "id": "92ptWJ4UUEN5"
      },
      "source": [
        "<h1> Data 831 (TP 1) - CAULLIREAU Dorian </h1>"
      ]
    },
    {
      "cell_type": "markdown",
      "metadata": {
        "id": "oXuDQ3kXUEN7"
      },
      "source": [
        "Le TP se décompose en trois parties : (1) une partie introductive qui va nous faire travailler sur Map-Filter-Reduce avec Python, (2) une partie qui se propose de passer à l'échelle avec du multithreading et (3) une partie qui sera utilisée par la suite dans le TP 3.\n",
        "\n",
        "Les parties 1 et 2 sont là pour se préparer à ce qu'il sera fait dans la partie 3.\n",
        "\n",
        "## Partie 1 : MapReduce \n",
        "\n",
        "Hadoop est écrit en Java mais nous ferons cela en Python pour nous faciliter la vie.\n",
        "Les questions ci-dessous sont pour nous familiariser avec Map-Filter-Reduce.\n"
      ]
    },
    {
      "cell_type": "markdown",
      "metadata": {
        "id": "TxELm_hMUEN9"
      },
      "source": [
        "La fonction map ne nécessite pas de faire une importation car elle est native dans Python tout comme filter. La fonction reduce se trouve dans functools.\n",
        "\n",
        "La fonction map est assez simple à comprendre, il s'agit d'appliquer un comportement à un ensemble de données. Deux éléments à prendre en compte : \n",
        "\n",
        "(1) Le comportement est représenté par une fonction ou une fonction anonyme\n",
        "\n",
        "(2) L'ensemble des données doit être _iterable_. Il doit donc être possible d'accéder à chacun des éléments de façon séparée.\n",
        "\n",
        "Voici un petit exemple : "
      ]
    },
    {
      "cell_type": "code",
      "execution_count": 3,
      "metadata": {
        "ExecuteTime": {
          "end_time": "2021-03-30T19:19:31.476069Z",
          "start_time": "2021-03-30T19:19:31.418839Z"
        },
        "id": "9TUpHd8gUEN_"
      },
      "outputs": [],
      "source": [
        "#creation d'une fonction pour obtenir le carré d'un nombre\n",
        "##bien faire attention que puisque nous devons l'utiliser \n",
        "#dans le map, il faut qu'il y ait un return\n",
        "def squared(n):\n",
        "    return n*n\n",
        "    \n",
        "#l'utilisation de list ici autour du map permet d'obtenir\n",
        "#les données sous une forme utilisable, essayez sans et vous\n",
        "#verrez\n",
        "res = list(map(squared, [1, 2, 3, 4]))"
      ]
    },
    {
      "cell_type": "code",
      "execution_count": null,
      "metadata": {
        "ExecuteTime": {
          "end_time": "2021-03-30T19:19:45.268756Z",
          "start_time": "2021-03-30T19:19:45.250882Z"
        },
        "id": "_485Nnw0UEOA",
        "outputId": "eebe633e-e508-4451-edb1-dd40fd0dc0ee"
      },
      "outputs": [
        {
          "name": "stdout",
          "output_type": "stream",
          "text": [
            "[1, 4, 9, 16]\n"
          ]
        }
      ],
      "source": [
        "#on affiche le résultat, pas de surprise sur le résultat\n",
        "print(res)"
      ]
    },
    {
      "cell_type": "markdown",
      "metadata": {
        "id": "yVMkwtPdUEOC"
      },
      "source": [
        "Nous ne sommes pas obligés d'utiliser une fonction externe pour la fonction du map. Nous pouvons aussi utiliser une fonction anonyme pour faire la même chose"
      ]
    },
    {
      "cell_type": "code",
      "execution_count": null,
      "metadata": {
        "ExecuteTime": {
          "end_time": "2021-03-29T20:00:48.593333Z",
          "start_time": "2021-03-29T20:00:48.583003Z"
        },
        "id": "TGQwWCn-UEOD",
        "outputId": "c084b3cd-aaa3-45c4-cd48-b3dc56c635d4"
      },
      "outputs": [
        {
          "data": {
            "text/plain": [
              "[1, 4, 9, 16]"
            ]
          },
          "execution_count": 9,
          "metadata": {},
          "output_type": "execute_result"
        }
      ],
      "source": [
        "list(map(lambda x : x * x, [1, 2, 3, 4]))"
      ]
    },
    {
      "cell_type": "markdown",
      "metadata": {
        "id": "XvsnMREIUEOL"
      },
      "source": [
        "C'est même plus simple de la sorte, par contre il est préférable de conserver une telle approche pour de petites fonctions afin d'éviter un code lourd et difficile à vérifier"
      ]
    },
    {
      "cell_type": "markdown",
      "metadata": {
        "id": "xvELX9ptUEOL"
      },
      "source": [
        "### Question\n",
        "Histoire de commencer simplement, proposez une fonction map qui permet de transformer en majuscules les données (nous supposons que les données sont effectivement des chaines de caractères)"
      ]
    },
    {
      "cell_type": "code",
      "execution_count": null,
      "metadata": {
        "ExecuteTime": {
          "end_time": "2021-03-30T19:21:50.974269Z",
          "start_time": "2021-03-30T19:21:50.962451Z"
        },
        "colab": {
          "base_uri": "https://localhost:8080/"
        },
        "id": "6E8C3wuSUEOM",
        "outputId": "f00c348e-ad5d-4f20-ed76-5534a6512b1b"
      },
      "outputs": [
        {
          "data": {
            "text/plain": [
              "['HIP', 'HIP', 'HIP', 'HOURRA']"
            ]
          },
          "execution_count": 2,
          "metadata": {},
          "output_type": "execute_result"
        }
      ],
      "source": [
        "#Votre code ici\n",
        "\n",
        "list(map(lambda x : x.upper(), [\"hip\", \"hip\", \"hip\", \"hourra\"]))"
      ]
    },
    {
      "cell_type": "markdown",
      "metadata": {
        "ExecuteTime": {
          "end_time": "2021-03-29T20:07:47.806049Z",
          "start_time": "2021-03-29T20:07:47.801765Z"
        },
        "id": "fKC4FppxUEON"
      },
      "source": [
        "### Question\n",
        "\n",
        "Un des exemples les plus classiques lorsque nous commençons Map-Reduce est de compter la fréquence de chaque mot dans un texte. Nous allons le travailler en deux temps. Commencez par définir une fonction va renvoyer pour une liste, le nombre 1 correspondant à la fréquence. Il s'agira ensuite d'appliquer une fonction reduce pour comptabiliser.\n",
        "\n",
        "Par exemple pour : [\"a\",\"b\",\"c\",\"d\"]\n",
        "\n",
        "cela donnera [(\"a\",1), (\"b\", 1), (\"c\", 1), (\"d\", 1)]\n"
      ]
    },
    {
      "cell_type": "code",
      "execution_count": null,
      "metadata": {
        "ExecuteTime": {
          "end_time": "2021-03-30T19:23:20.893671Z",
          "start_time": "2021-03-30T19:23:20.885120Z"
        },
        "colab": {
          "base_uri": "https://localhost:8080/"
        },
        "id": "z3Kieo4iUEOO",
        "outputId": "9209aaa8-0e0c-4a33-e889-1b735c4b3812"
      },
      "outputs": [
        {
          "data": {
            "text/plain": [
              "[('a', 1), ('b', 1), ('c', 1), ('d', 1)]"
            ]
          },
          "execution_count": 1,
          "metadata": {},
          "output_type": "execute_result"
        }
      ],
      "source": [
        "list(map(lambda x : (x,1), [\"a\",\"b\",\"c\",\"d\"]))"
      ]
    },
    {
      "cell_type": "markdown",
      "metadata": {
        "ExecuteTime": {
          "end_time": "2021-03-29T20:23:55.667063Z",
          "start_time": "2021-03-29T20:23:55.663024Z"
        },
        "id": "qln45UYEUEOO"
      },
      "source": [
        "### Question\n",
        "\n",
        "Dans le précédent exemple, nous avons simplifié le travail puisque nous avons formé déjà une liste des chaines de caractères. Proposez cette fois une fonction map pour transformer le texte (il sera court) en une liste de mots. A nouveau pour nous simplifier la vie, nous ferons un texte avec seulement des espaces."
      ]
    },
    {
      "cell_type": "code",
      "execution_count": 2,
      "metadata": {
        "ExecuteTime": {
          "end_time": "2021-03-30T19:34:30.779713Z",
          "start_time": "2021-03-30T19:34:30.774972Z"
        },
        "colab": {
          "base_uri": "https://localhost:8080/"
        },
        "id": "R9pmHIAdUEOP",
        "outputId": "1a735f19-dfc2-456b-f1e5-1e4be19d8ea6"
      },
      "outputs": [
        {
          "data": {
            "text/plain": [
              "[('Le', 1), ('petit', 1), ('enfant', 1), ('dans', 1), ('la', 1), ('forêt', 1)]"
            ]
          },
          "execution_count": 2,
          "metadata": {},
          "output_type": "execute_result"
        }
      ],
      "source": [
        "list(map(lambda x : (x,1), \"Le petit enfant dans la forêt\".split(\" \")))"
      ]
    },
    {
      "cell_type": "markdown",
      "metadata": {
        "id": "ZmgIlyFKUEOQ"
      },
      "source": [
        "### Question\n",
        "\n",
        "Et pourquoi ne pas chainer les map ? Essayez avec une fonction square et ensuite une fonction puissance 3."
      ]
    },
    {
      "cell_type": "code",
      "execution_count": 4,
      "metadata": {
        "ExecuteTime": {
          "end_time": "2021-03-29T20:52:08.967245Z",
          "start_time": "2021-03-29T20:52:08.960811Z"
        },
        "id": "cdfugIekUEOR"
      },
      "outputs": [
        {
          "data": {
            "text/plain": [
              "[1, 16, 81, 256]"
            ]
          },
          "execution_count": 4,
          "metadata": {},
          "output_type": "execute_result"
        }
      ],
      "source": [
        "# Votre code ici\n",
        "list(map(lambda x : x * x, map(squared, [1, 2, 3, 4])))"
      ]
    },
    {
      "cell_type": "markdown",
      "metadata": {
        "id": "TW4IpHQUUEOR"
      },
      "source": [
        "La construction n'est pas map().map() comme nous aurions pu avoir envie "
      ]
    },
    {
      "cell_type": "markdown",
      "metadata": {
        "id": "rTCLjEfyUEOR"
      },
      "source": [
        "Maintenant voyons la fonction filter qui ne sera pas plus compliquée. Comme son nom l'indique, il s'agit de sélectionner les données qui seront conservées\n",
        "\n",
        "Voici un premier exemple : "
      ]
    },
    {
      "cell_type": "code",
      "execution_count": null,
      "metadata": {
        "ExecuteTime": {
          "end_time": "2021-03-30T19:37:46.542317Z",
          "start_time": "2021-03-30T19:37:46.529850Z"
        },
        "colab": {
          "base_uri": "https://localhost:8080/"
        },
        "id": "HbUeqvRKUEOS",
        "outputId": "37b380ad-18e0-4ced-d987-2b54a4f21513"
      },
      "outputs": [
        {
          "name": "stdout",
          "output_type": "stream",
          "text": [
            "[1, 2, 4]\n"
          ]
        }
      ],
      "source": [
        "def positive(nb):\n",
        "    if nb >= 0:\n",
        "        return True\n",
        "    else:\n",
        "        return False\n",
        "    \n",
        "res = list(filter(positive, [1, 2, -5, -3, 4]))\n",
        "print(res)"
      ]
    },
    {
      "cell_type": "markdown",
      "metadata": {
        "id": "POrVtjkQUEOS"
      },
      "source": [
        "### Question\n",
        "\n",
        "Ecrivez une fonction filter qui ne va retenir d'un texte que les mots faisant plus de 5 caractères de longueur"
      ]
    },
    {
      "cell_type": "code",
      "execution_count": 5,
      "metadata": {
        "ExecuteTime": {
          "end_time": "2021-03-30T19:39:06.194934Z",
          "start_time": "2021-03-30T19:39:06.190045Z"
        },
        "colab": {
          "base_uri": "https://localhost:8080/"
        },
        "id": "6DFjdzdTUEOT",
        "outputId": "2660e19a-4c5e-43aa-c5a0-d43bb24a3bed"
      },
      "outputs": [
        {
          "data": {
            "text/plain": [
              "['petits', 'enfants', 'forêt']"
            ]
          },
          "execution_count": 5,
          "metadata": {},
          "output_type": "execute_result"
        }
      ],
      "source": [
        "list(filter(lambda x :len(x) >= 5, \"Les petits enfants dans la forêt\".split(\" \")))"
      ]
    },
    {
      "cell_type": "markdown",
      "metadata": {
        "id": "eYFuWc2jUEOT"
      },
      "source": [
        "Nous voyons que les deux fonction map et filter seront utilisés de concert pour sélectionner les données à traiter. Nous pouvons bien évidemment appliquer cette approche pour des textes plus longs comme celui d'_Alice in Wonderland_. \n",
        "\n"
      ]
    },
    {
      "cell_type": "code",
      "execution_count": 19,
      "metadata": {
        "ExecuteTime": {
          "end_time": "2021-03-30T19:40:46.453788Z",
          "start_time": "2021-03-30T19:40:46.410039Z"
        },
        "colab": {
          "base_uri": "https://localhost:8080/"
        },
        "id": "yN2OmLr5UEOU",
        "outputId": "d3306684-3282-44d5-ebe3-cec771446226"
      },
      "outputs": [
        {
          "name": "stdout",
          "output_type": "stream",
          "text": [
            "['waistcoat-pocket,', 'seen--everything', 'rabbit-hole--and', 'Jack-in-the-box,', 'bread-and-butter,', 'treacle-well--eh,', 'things--everything', 'bitter--and--and', 'WASHING--extra.\"\\'', '\"Uglification,\"\\'', 'means--to--make--anything--', 'adventures--beginning', 'bread-and-butter', 'bread-and-butter.', 'bread-and-butter', 'bread-and-butter,', '`important--unimportant--', \"unimportant--important--'\", 'farm-yard--while']\n"
          ]
        }
      ],
      "source": [
        "file = open(\"data/alice.txt\",\"r\")\n",
        "data = file.read().replace('\\n',' ').split(\" \")\n",
        "file.close()\n",
        "\n",
        "#Pour l'affichage, on préfère afficher que quelques mots/expressions (donc long)\n",
        "sizeword = 15\n",
        "print(list(filter(lambda x :len(x) > sizeword, data)))\n",
        " "
      ]
    },
    {
      "cell_type": "markdown",
      "metadata": {
        "id": "bkdm1GBqUEOV"
      },
      "source": [
        "Voyons donc maintenant la dernière fonction reduce. Contrairement aux deux autres, celle-ci ne se trouve pas être native dans Python et il faut donc faire un import.\n",
        "\n",
        "L'aspect déroutant de cette fonction reduce est de prendre les deux premiers éléments de la liste et de générer un résultat qui sera ensuite cumuler avec la valeur suivante. Il est donc important de bien choisir sa fonction de calcul et surtout la valeur retour de la fonction comme nous le verrons dans un exemple\n"
      ]
    },
    {
      "cell_type": "code",
      "execution_count": null,
      "metadata": {
        "ExecuteTime": {
          "end_time": "2021-03-30T08:52:14.265192Z",
          "start_time": "2021-03-30T08:52:14.261606Z"
        },
        "colab": {
          "base_uri": "https://localhost:8080/"
        },
        "id": "HU0eeUUrUEOV",
        "outputId": "8d08d27d-036e-464b-d65d-0d902d8e2983"
      },
      "outputs": [
        {
          "name": "stdout",
          "output_type": "stream",
          "text": [
            "120\n"
          ]
        }
      ],
      "source": [
        "from functools import reduce\n",
        "product = reduce((lambda x, y: x * y), [1, 2, 3, 4, 5])\n",
        "print(product)"
      ]
    },
    {
      "cell_type": "code",
      "execution_count": null,
      "metadata": {
        "ExecuteTime": {
          "end_time": "2021-03-30T09:11:47.017570Z",
          "start_time": "2021-03-30T09:11:47.014081Z"
        },
        "id": "kBmKzrWJUEOW",
        "outputId": "d6f274a0-3d02-4ca6-9988-d5d0ea365601"
      },
      "outputs": [
        {
          "name": "stdout",
          "output_type": "stream",
          "text": [
            "a b\n",
            "None c\n",
            "None d\n",
            "None e\n"
          ]
        }
      ],
      "source": [
        "# Voici un code qui ne fonctionne pas \n",
        "reduce(print, [\"a\", \"b\", \"c\", \"d\", \"e\"])"
      ]
    },
    {
      "cell_type": "markdown",
      "metadata": {
        "id": "tEwfUMvFUEOX"
      },
      "source": [
        "Comme on peut le voir, les deux premiers éléments ont été appariés puis ensuite les autres avec la valeur cumulative qui est ici None.\n",
        "\n",
        "On voit tout de suite que sur une fonction reduce il est nécessaire de disposer d'une valeur numérique"
      ]
    },
    {
      "cell_type": "markdown",
      "metadata": {
        "id": "Kn6T4iFeUEOX"
      },
      "source": [
        "### Question\n",
        "\n",
        "Tentez de calculer le nombre d'occurrences de chacune des lettres qui sont passées en paramètres.\n",
        "\n",
        "Il y a réellement plusieurs écueils pour réussir, en particulier pour la définition des données"
      ]
    },
    {
      "cell_type": "code",
      "execution_count": null,
      "metadata": {
        "ExecuteTime": {
          "end_time": "2021-03-30T09:33:20.595775Z",
          "start_time": "2021-03-30T09:33:20.590296Z"
        },
        "colab": {
          "base_uri": "https://localhost:8080/"
        },
        "id": "N1aCDLOvUEOX",
        "outputId": "4833e670-57b3-49b2-fded-70149ad88abd"
      },
      "outputs": [
        {
          "name": "stdout",
          "output_type": "stream",
          "text": [
            "('a', 1) ('a', 1)\n",
            "('a', 2) ('a', 1)\n",
            "('a', 3) ('a', 1)\n",
            "('a', 4) ('a', 1)\n",
            "('a', 5) ('a', 1)\n"
          ]
        },
        {
          "data": {
            "text/plain": [
              "('a', 6)"
            ]
          },
          "execution_count": 31,
          "metadata": {},
          "output_type": "execute_result"
        }
      ],
      "source": [
        "array = [\"a\",\"a\",\"a\",\"a\",\"a\",\"a\"]\n",
        "find_value = \"a\"\n",
        "\n",
        "def compteur_occurence(x,y):\n",
        "  print(x,y)\n",
        "  return (find_value, x[1]+y[1])\n",
        "\n",
        "reduce(compteur_occurence, map(lambda x: (x,1), array))\n"
      ]
    },
    {
      "cell_type": "markdown",
      "metadata": {
        "id": "FZdwLrCHUEOY"
      },
      "source": [
        "Oui, effectivement le principal problème est que l'approche avec reduce impose que nous n'avons pas des lettres différentes sinon le tout va être aggloméré en un tout sans pour autant distinguer les différentes lettres, il faut donc appeler la fonction reduce avec une seule lettre à la fois."
      ]
    },
    {
      "cell_type": "markdown",
      "metadata": {
        "ExecuteTime": {
          "end_time": "2021-03-30T19:54:42.683645Z",
          "start_time": "2021-03-30T19:54:42.671310Z"
        },
        "id": "KKmwGvbcUEOY"
      },
      "source": [
        "### Question\n",
        "\n",
        "Ecrivez les fonctions nécessaires pour classer les données et faire des blocs en fonction de la lettre"
      ]
    },
    {
      "cell_type": "code",
      "execution_count": 20,
      "metadata": {
        "ExecuteTime": {
          "end_time": "2021-03-30T19:52:44.212313Z",
          "start_time": "2021-03-30T19:52:44.203328Z"
        },
        "colab": {
          "base_uri": "https://localhost:8080/"
        },
        "id": "VYkhRO15UEOZ",
        "outputId": "10463b25-0b2b-406d-cba8-19087d46cf58"
      },
      "outputs": [
        {
          "name": "stdout",
          "output_type": "stream",
          "text": [
            "Resultat :  [('a', 1), ('a', 1), ('b', 1), ('c', 1), ('d', 1)]\n"
          ]
        }
      ],
      "source": [
        "string = sorted(\"dabca\")\n",
        "print(\"Resultat : \" , list(map(lambda x : (x,1), string)))"
      ]
    },
    {
      "cell_type": "markdown",
      "metadata": {
        "id": "XC0QIZ6YUEOa"
      },
      "source": [
        "Afin de poursuivre sur cet exercice, effectuez le début du tutoriel : \n",
        "https://www.michael-noll.com/tutorials/writing-an-hadoop-mapreduce-program-in-python/\n",
        "\n",
        "Comme vous pourrez vous en rendre compte, il est nécessaire d'adapter un peu pour répondre à nos besoins"
      ]
    },
    {
      "cell_type": "markdown",
      "metadata": {
        "id": "ub2NiGlSUEOa"
      },
      "source": [
        "## Partie 2 : Scaling"
      ]
    },
    {
      "cell_type": "markdown",
      "metadata": {
        "id": "lfRryJ4oUEOa"
      },
      "source": [
        "Nous allons prendre le tutoriel : \n",
        "https://towardsdatascience.com/a-beginners-introduction-into-mapreduce-2c912bb5e6ac\n",
        "\n",
        "Il faudra faire attention, il y a quelques erreurs mais c'est assez facile à corriger"
      ]
    },
    {
      "cell_type": "code",
      "execution_count": null,
      "metadata": {
        "id": "fYEcyG8Lemj1"
      },
      "outputs": [],
      "source": [
        "def find_longest_string(list_of_strings):\n",
        "    longest_string = None\n",
        "    longest_string_len = 0     \n",
        "    \n",
        "    for s in list_of_strings:\n",
        "        if len(s) > longest_string_len:\n",
        "            longest_string_len = len(s)\n",
        "            longest_string = s    \n",
        "    return longest_string\n",
        "\n"
      ]
    },
    {
      "cell_type": "code",
      "execution_count": null,
      "metadata": {
        "colab": {
          "base_uri": "https://localhost:8080/"
        },
        "id": "KwD1vS8cewju",
        "outputId": "e2597bff-60b1-4508-91a6-fe3dff26751b"
      },
      "outputs": [
        {
          "name": "stdout",
          "output_type": "stream",
          "text": [
            "python\n",
            "CPU times: user 943 µs, sys: 847 µs, total: 1.79 ms\n",
            "Wall time: 3.62 ms\n"
          ]
        }
      ],
      "source": [
        "list_of_strings = ['abc', 'python', 'dima']\n",
        "%time max_length = print(find_longest_string(list_of_strings))"
      ]
    },
    {
      "cell_type": "code",
      "execution_count": null,
      "metadata": {
        "colab": {
          "base_uri": "https://localhost:8080/"
        },
        "id": "-epxXYQse98N",
        "outputId": "bdeb11b2-5fe3-4a73-9ae8-fe6ad7f101eb"
      },
      "outputs": [
        {
          "name": "stdout",
          "output_type": "stream",
          "text": [
            "python\n",
            "CPU times: user 2.79 ms, sys: 0 ns, total: 2.79 ms\n",
            "Wall time: 2.84 ms\n"
          ]
        }
      ],
      "source": [
        "large_list_of_strings = list_of_strings*1000\n",
        "%time print(find_longest_string(large_list_of_strings))"
      ]
    },
    {
      "cell_type": "code",
      "execution_count": null,
      "metadata": {
        "colab": {
          "base_uri": "https://localhost:8080/"
        },
        "id": "sS0anK6mfC_6",
        "outputId": "b1efccfe-6881-4630-b0a9-acb446dc5901"
      },
      "outputs": [
        {
          "name": "stdout",
          "output_type": "stream",
          "text": [
            "CPU times: user 13.8 s, sys: 71.3 ms, total: 13.9 s\n",
            "Wall time: 13.9 s\n"
          ]
        }
      ],
      "source": [
        "large_list_of_strings = list_of_strings*100000000\n",
        "%time max_length = max(large_list_of_strings, key=len)"
      ]
    },
    {
      "cell_type": "code",
      "execution_count": null,
      "metadata": {
        "colab": {
          "base_uri": "https://localhost:8080/"
        },
        "id": "USPA9ROqfZuO",
        "outputId": "d5a06d11-c6cf-4b4f-f3ad-d4fd9936e804"
      },
      "outputs": [
        {
          "name": "stdout",
          "output_type": "stream",
          "text": [
            "('python', 6)\n",
            "CPU times: user 1.03 ms, sys: 3 µs, total: 1.04 ms\n",
            "Wall time: 1.07 ms\n"
          ]
        }
      ],
      "source": [
        "%%time\n",
        "\n",
        "#step 1:\n",
        "list_of_string_lens = [len(s) for s in list_of_strings]\n",
        "list_of_string_lens = zip(list_of_strings, list_of_string_lens)\n",
        "\n",
        "#step 2:\n",
        "max_len = max(list_of_string_lens, key=lambda t: t[1])\n",
        "print(max_len)"
      ]
    },
    {
      "cell_type": "code",
      "execution_count": 21,
      "metadata": {
        "id": "v264Ig1ZftjS"
      },
      "outputs": [],
      "source": [
        "mapper = len\n",
        "\n",
        "def reducer(p, c):\n",
        "    if p[1] > c[1]:\n",
        "        return p\n",
        "    return c"
      ]
    },
    {
      "cell_type": "code",
      "execution_count": null,
      "metadata": {
        "colab": {
          "base_uri": "https://localhost:8080/"
        },
        "id": "f9WoD4Dnf2dq",
        "outputId": "39a72b45-3fae-44b9-f319-b60594a46773"
      },
      "outputs": [
        {
          "name": "stdout",
          "output_type": "stream",
          "text": [
            "('python', 6)\n",
            "CPU times: user 1.13 ms, sys: 12 µs, total: 1.14 ms\n",
            "Wall time: 1.43 ms\n"
          ]
        }
      ],
      "source": [
        "%%time\n",
        "\n",
        "#step 1\n",
        "mapped = map(mapper, list_of_strings)\n",
        "mapped = zip(list_of_strings, mapped)#step 2:\n",
        "reduced = reduce(reducer, mapped)\n",
        "\n",
        "print(reduced)"
      ]
    },
    {
      "cell_type": "code",
      "execution_count": null,
      "metadata": {
        "id": "02K2iroihSrN"
      },
      "outputs": [],
      "source": [
        "def chunkify(a, n):\n",
        "    k, m = divmod(len(a), n)\n",
        "    return [a[i*k+min(i, m):(i+1)*k+min(i+1, m)] for i in range(n)]"
      ]
    },
    {
      "cell_type": "code",
      "execution_count": null,
      "metadata": {
        "colab": {
          "base_uri": "https://localhost:8080/"
        },
        "id": "CmwlrqC9gBUl",
        "outputId": "adac3972-2334-4056-8dd9-2467bbc316c5"
      },
      "outputs": [
        {
          "name": "stdout",
          "output_type": "stream",
          "text": [
            "('python', 6)\n"
          ]
        }
      ],
      "source": [
        "data_chunks = chunkify(list_of_strings*100,30)\n",
        "\n",
        "data_chunks = filter(lambda x: len(x)>0, data_chunks)\n",
        "#step 1:\n",
        "reduced_all = []\n",
        "for chunk in data_chunks:\n",
        "    mapped_chunk = map(mapper, chunk)\n",
        "    mapped_chunk = zip(chunk, mapped_chunk)\n",
        "    \n",
        "    reduced_chunk = reduce(reducer, mapped_chunk)\n",
        "    reduced_all.append(reduced_chunk)\n",
        "    \n",
        "#step 2:\n",
        "reduced = reduce(reducer, reduced_all)\n",
        "\n",
        "print(reduced)"
      ]
    },
    {
      "cell_type": "code",
      "execution_count": null,
      "metadata": {
        "id": "4NPjRXPNjPsC"
      },
      "outputs": [],
      "source": [
        "def chunks_mapper(chunk):\n",
        "    mapped_chunk = map(mapper, chunk) \n",
        "    mapped_chunk = zip(chunk, mapped_chunk)\n",
        "    return reduce(reducer, mapped_chunk)"
      ]
    },
    {
      "cell_type": "code",
      "execution_count": null,
      "metadata": {
        "colab": {
          "base_uri": "https://localhost:8080/"
        },
        "id": "nAQPa8A1jR80",
        "outputId": "973284e3-46ad-41e4-aa4d-e0f0da4c908c"
      },
      "outputs": [
        {
          "name": "stdout",
          "output_type": "stream",
          "text": [
            "('python', 6)\n",
            "CPU times: user 1.26 ms, sys: 22 µs, total: 1.28 ms\n",
            "Wall time: 3.12 ms\n"
          ]
        }
      ],
      "source": [
        "%%time\n",
        "\n",
        "data_chunks = chunkify(list_of_strings,30)\n",
        "data_chunks = filter(lambda x: len(x)>0, data_chunks)\n",
        "\n",
        "#step 1:\n",
        "mapped = map(chunks_mapper, data_chunks)\n",
        "\n",
        "#step 2:\n",
        "reduced = reduce(reducer, mapped)\n",
        "\n",
        "print(reduced)"
      ]
    },
    {
      "cell_type": "code",
      "execution_count": null,
      "metadata": {
        "colab": {
          "base_uri": "https://localhost:8080/"
        },
        "id": "dahaaKXmjmFR",
        "outputId": "1cd3067c-474a-4a71-fd6a-a2f83e373a52"
      },
      "outputs": [
        {
          "name": "stdout",
          "output_type": "stream",
          "text": [
            "[('python', 6), ('python', 6), ('python', 6), ('python', 6), ('python', 6), ('python', 6), ('python', 6), ('python', 6)]\n",
            "('python', 6)\n"
          ]
        }
      ],
      "source": [
        "from multiprocessing import Pool\n",
        "\n",
        "pool = Pool(8)\n",
        "data_chunks = chunkify(list_of_strings*1000,8)\n",
        "data_chunks = filter(lambda x: len(x)>0, data_chunks)\n",
        "\n",
        "#step 1:\n",
        "mapped = pool.map(chunks_mapper, data_chunks)\n",
        "\n",
        "#step 2:\n",
        "reduced = reduce(reducer, mapped)\n",
        "\n",
        "print(reduced)"
      ]
    },
    {
      "cell_type": "code",
      "execution_count": null,
      "metadata": {
        "id": "xlSFVywqmhL-"
      },
      "outputs": [],
      "source": [
        "from sklearn.datasets import fetch_20newsgroups\n",
        "\n",
        "news = fetch_20newsgroups(subset='train')\n",
        "\n",
        "data = news.data*10"
      ]
    },
    {
      "cell_type": "code",
      "execution_count": null,
      "metadata": {
        "colab": {
          "base_uri": "https://localhost:8080/"
        },
        "id": "UcaMhgj1oIVx",
        "outputId": "84431c30-d027-4633-a149-2249bb02ac9c"
      },
      "outputs": [
        {
          "name": "stdout",
          "output_type": "stream",
          "text": [
            "[nltk_data] Downloading package stopwords to /root/nltk_data...\n",
            "[nltk_data]   Unzipping corpora/stopwords.zip.\n"
          ]
        }
      ],
      "source": [
        "import re \n",
        "import nltk\n",
        "from nltk.corpus import stopwords\n",
        "from collections import Counter \n",
        "\n",
        "nltk.download('stopwords')\n",
        "\n",
        "ENGLISH_STOP_WORDS = set(stopwords.words('english'))\n",
        "\n",
        "def clean_word(word):\n",
        "    return re.sub(r'[^\\w\\s]','',word).lower()\n",
        "    \n",
        "def word_not_in_stopwords(word):\n",
        "    return word not in ENGLISH_STOP_WORDS and word and word.isalpha()\n",
        "    \n",
        "def find_top_words(data):\n",
        "    cnt = Counter()\n",
        "    for text in data:\n",
        "        tokens_in_text = text.split()\n",
        "        tokens_in_text = map(clean_word, tokens_in_text)\n",
        "        tokens_in_text = filter(word_not_in_stopwords, tokens_in_text)\n",
        "        cnt.update(tokens_in_text)\n",
        "        \n",
        "    return cnt.most_common(10)"
      ]
    },
    {
      "cell_type": "code",
      "execution_count": null,
      "metadata": {
        "colab": {
          "base_uri": "https://localhost:8080/"
        },
        "id": "CWXDv3gBo-5E",
        "outputId": "65193335-dce5-493e-ee35-188ed14992ff"
      },
      "outputs": [
        {
          "name": "stdout",
          "output_type": "stream",
          "text": [
            "CPU times: user 1min 1s, sys: 463 ms, total: 1min 2s\n",
            "Wall time: 1min 2s\n"
          ]
        },
        {
          "data": {
            "text/plain": [
              "[('subject', 122520),\n",
              " ('lines', 118240),\n",
              " ('organization', 111850),\n",
              " ('would', 88690),\n",
              " ('one', 86470),\n",
              " ('writes', 78360),\n",
              " ('article', 67540),\n",
              " ('people', 58320),\n",
              " ('dont', 58130),\n",
              " ('like', 57570)]"
            ]
          },
          "execution_count": 43,
          "metadata": {},
          "output_type": "execute_result"
        }
      ],
      "source": [
        "%time find_top_words(data)"
      ]
    },
    {
      "cell_type": "code",
      "execution_count": null,
      "metadata": {
        "id": "k44H5mKPqNKQ"
      },
      "outputs": [],
      "source": [
        "def mapper(text):\n",
        "    tokens_in_text = text.split()\n",
        "    tokens_in_text = map(clean_word, tokens_in_text)\n",
        "    tokens_in_text = filter(word_not_in_stopwords, tokens_in_text)\n",
        "    return Counter(tokens_in_text)\n",
        "\n",
        "def reducer(cnt1, cnt2):\n",
        "    cnt1.update(cnt2)\n",
        "    return cnt1\n",
        "    \n",
        "def chunk_mapper(chunk):\n",
        "    mapped = map(mapper, chunk)\n",
        "    reduced = reduce(reducer, mapped)\n",
        "    return reduced"
      ]
    },
    {
      "cell_type": "code",
      "execution_count": null,
      "metadata": {
        "id": "b_XbobQtqTDR"
      },
      "outputs": [],
      "source": [
        "%%time\n",
        "\n",
        "data_chunks = chunkify(data, 36)\n",
        "data_chunks = filter(lambda x: len(x)>0, data_chunks)\n",
        "\n",
        "#step 1:\n",
        "mapped = pool.map(chunk_mapper, data_chunks)\n",
        "\n",
        "#step 2:\n",
        "reduced = reduce(reducer, mapped)\n",
        "\n",
        "print(reduced.most_common(10))"
      ]
    },
    {
      "cell_type": "markdown",
      "metadata": {
        "id": "wPup39VTrIHN"
      },
      "source": [
        "Et puis pour finir : https://pymotw.com/2/multiprocessing/mapreduce.html"
      ]
    },
    {
      "cell_type": "markdown",
      "metadata": {
        "id": "8J3CqRYBrEXD"
      },
      "source": [
        "# Partie 3 : Map Suffle Reduce au pays des échecs"
      ]
    },
    {
      "cell_type": "markdown",
      "metadata": {
        "id": "73Hx9IWyUEOb"
      },
      "source": [
        "Jusqu’à présent, vous êtes habitués à travailler en mono-processus. Vous créez votre programme qui ingère les données de façon séquentielle et vous produisez le résultat à la fin. Ceci fonctionne très bien tant que le volume ou la vélocité reste peu importante. Mais quand nous parlons de faibles volumes, nous faisons allusion à quelques centaines de Mo, voire 1 ou 2 Go. Au-dessus, cela devient compliqué. Une base de données de 2 Go ne tient plus en mémoire sauf à utiliser Pandas par exemple en Python. \n",
        "\n",
        "Il faut donc paralléliser pour s’en sortir. C’est ici qu’interviennent des solutions comme Hadoop et MapReduce. Même s’il est possible de faire Hadoop et MapReduce en local sur votre machine (par l’intermédiaire d’une machine virtuelle, pesant au bas mot 5 Go), cela ne présente pas d’intérêt. En effet, il faudrait pouvoir lancer de nombreux (dizaines, centaines) nœuds pour noter un réel gain.\n",
        "\n",
        "Mais ce n’est pas pour autant que nous ne pouvons pas avoir un premier feeling de l’apport de la parallélisation. \n",
        "\n",
        "En règle générale, nous présentons le cas d’école classique pour MapReduce à savoir compter le nombre de mots dans un texte mais il se trouve que vous l’avez déjà traité. Nous allons donc proposer quelque chose de nouveau dans le domaine des échecs.\n",
        "\n"
      ]
    },
    {
      "cell_type": "markdown",
      "metadata": {
        "id": "kOBwBQNsUEOc"
      },
      "source": [
        "Récupérer l’archive zip qui se trouve sur le Moodle du module Data 831. Elle contient un ensemble de parties d’échecs. C’est cette base qui servira pour l’exercice de MapReduce."
      ]
    },
    {
      "cell_type": "markdown",
      "metadata": {
        "id": "L_xcF4PJUEOd"
      },
      "source": [
        "### Question "
      ]
    },
    {
      "cell_type": "markdown",
      "metadata": {
        "id": "lz7q4jFtUEOd"
      },
      "source": [
        "Chaque position aux échecs peut être repérée de façon unique par l’intermédiaire de sa description au format FEN ou EPD. La description EPD permet de s’abstraire du nombre de coups joués. C’est donc cette description que nous choisirons. \n",
        "A partir du module python-chess (https://python-chess.readthedocs.io/en/latest/), obtenez pour une position sa description EPD. \n"
      ]
    },
    {
      "cell_type": "code",
      "execution_count": 5,
      "metadata": {
        "colab": {
          "base_uri": "https://localhost:8080/",
          "height": 217
        },
        "id": "xHUluYoyUEOe",
        "outputId": "ec7f21ba-d037-4e4f-bb63-6fd841cefd3e"
      },
      "outputs": [
        {
          "name": "stdout",
          "output_type": "stream",
          "text": [
            "rnbqkbnr/pppppppp/8/8/8/8/PPPPPPPP/RNBQKBNR w KQkq -\n"
          ]
        }
      ],
      "source": [
        "import chess.pgn\n",
        "\n",
        "pgn = open(\"data.pgn\")\n",
        "\n",
        "first_game = chess.pgn.read_game(pgn)\n",
        "second_game = chess.pgn.read_game(pgn)\n",
        "\n",
        "board = first_game.board()\n",
        "\n",
        "print(board.epd())\n"
      ]
    },
    {
      "cell_type": "markdown",
      "metadata": {
        "id": "I4Gp5KIEUEOe"
      },
      "source": [
        "### Question"
      ]
    },
    {
      "cell_type": "markdown",
      "metadata": {
        "id": "GPuYLiGoUEOe"
      },
      "source": [
        "Complétez le code précédent pour que l’ensemble des positions pour une partie soit connu."
      ]
    },
    {
      "cell_type": "code",
      "execution_count": 6,
      "metadata": {
        "id": "CRXATg2oUEOf"
      },
      "outputs": [
        {
          "name": "stdout",
          "output_type": "stream",
          "text": [
            "Nb de coup jouée : 107\n"
          ]
        }
      ],
      "source": [
        "saved_data = []\n",
        "\n",
        "pgn = open(\"data/Lautier.pgn\")\n",
        "board = first_game.board()\n",
        "\n",
        "for move in first_game.mainline_moves():\n",
        "    saved_data.append(board.epd())\n",
        "    board.push(move)\n",
        "\n",
        "print(\"Nb de coup jouée : \" + str(len(saved_data)))"
      ]
    },
    {
      "cell_type": "markdown",
      "metadata": {
        "id": "oOR7JahAUEOf"
      },
      "source": [
        "### Question"
      ]
    },
    {
      "cell_type": "markdown",
      "metadata": {
        "id": "HV2pV8loUEOf"
      },
      "source": [
        "A nouveau, complétez le code pour que nous prenions en compte l’ensemble des parties qui se trouve dans l’archive."
      ]
    },
    {
      "cell_type": "code",
      "execution_count": 7,
      "metadata": {
        "id": "BDWEiJiPUEOg"
      },
      "outputs": [
        {
          "name": "stdout",
          "output_type": "stream",
          "text": [
            "Nombre de partie 1809\n"
          ]
        }
      ],
      "source": [
        "#Votre code ici\n",
        "\n",
        "pgn = open(\"data/Lautier.pgn\")\n",
        "game = chess.pgn.read_game(pgn)\n",
        "\n",
        "games = []\n",
        "\n",
        "while(game):\n",
        "    board = game.board()\n",
        "\n",
        "    data = []\n",
        "    for move in game.mainline_moves():\n",
        "        data.append(board.epd())\n",
        "        board.push(move)\n",
        "    games.append(data)\n",
        "\n",
        "\n",
        "    # print(\"Nombre de coups pour cette partie : \", len(data))    \n",
        "    \n",
        "    game = chess.pgn.read_game(pgn) \n",
        "\n",
        "print(\"Nombre de partie \" + str(len(games)))"
      ]
    },
    {
      "cell_type": "markdown",
      "metadata": {},
      "source": [
        "Pour la suite, nous pouvons faire une fonction pour récupérer l'ensemble des EPDS"
      ]
    },
    {
      "cell_type": "code",
      "execution_count": 8,
      "metadata": {},
      "outputs": [],
      "source": [
        "def get_epds():\n",
        "\n",
        "    pgn = open(\"data/Lautier.pgn\")\n",
        "    game = chess.pgn.read_game(pgn)\n",
        "    epds = []\n",
        "\n",
        "    while(game):\n",
        "        epd = []\n",
        "        board = game.board()\n",
        "        epd.append(board.epd())\n",
        "        for move in game.mainline_moves():\n",
        "            board.push(move)\n",
        "            epd.append(board.epd())\n",
        "\n",
        "        epds.extend(epd)\n",
        "        game = chess.pgn.read_game(pgn)\n",
        "\n",
        "    return epds"
      ]
    },
    {
      "cell_type": "markdown",
      "metadata": {
        "id": "Zw4DispEUEOg"
      },
      "source": [
        "### Question"
      ]
    },
    {
      "cell_type": "markdown",
      "metadata": {
        "id": "ucWkYe4zUEOh"
      },
      "source": [
        "Si vous avez compris le principe derrière Map, il faut que votre fonction Map renvoie une donnée à savoir l’élément et un compteur qui est toujours à 1. Faites de même ici avec la position au format EPD."
      ]
    },
    {
      "cell_type": "code",
      "execution_count": 9,
      "metadata": {
        "id": "fw8-zC3BUEOh"
      },
      "outputs": [],
      "source": [
        "def myMap(epd):\n",
        "    return (epd,1)"
      ]
    },
    {
      "cell_type": "markdown",
      "metadata": {
        "id": "dWAtq7P8UEOi"
      },
      "source": [
        "### Question"
      ]
    },
    {
      "cell_type": "markdown",
      "metadata": {
        "id": "f3daUw6uUEOi"
      },
      "source": [
        "Il faut écrire la fonction Reduce qui somme par positions. Elle doit accepter de recevoir des entrées et compter le nombre d’occurrences. \n",
        "La sortie de la fonction Reduce sera la position et le nombre d’occurrences."
      ]
    },
    {
      "cell_type": "code",
      "execution_count": 10,
      "metadata": {
        "id": "ePutigvRUEOi"
      },
      "outputs": [],
      "source": [
        "\n",
        "def myReducer(tab_epds):\n",
        "\n",
        "    return_array = []\n",
        "\n",
        "    for x, y in tab_epds:\n",
        "        return_array.append((x, sum(y[1])))\n",
        "        \n",
        "    return return_array"
      ]
    },
    {
      "cell_type": "markdown",
      "metadata": {
        "id": "J7-u_dzuUEOi"
      },
      "source": [
        "### Question"
      ]
    },
    {
      "cell_type": "markdown",
      "metadata": {
        "id": "nZc2G6NfUEOj"
      },
      "source": [
        "Nous parlons souvent de MapReduce sans mentionner l’étape intermédiaire de Shuffle qui groupe les éléments selon la clé (à savoir ici la position EPD). Ecrire une fonction Shuffle qui va prendre en entrée ce qui provient de Map et qui va grouper les éléments par la clé."
      ]
    },
    {
      "cell_type": "code",
      "execution_count": 11,
      "metadata": {
        "id": "WxkYA9LsUEOj"
      },
      "outputs": [],
      "source": [
        "def myShuffle(tab_epds):\n",
        "\n",
        "    return_array = {}\n",
        "\n",
        "    for x, y in tab_epds:\n",
        "        if (x in return_array.keys()):\n",
        "            return_array[x][1].append(y)\n",
        "        else:\n",
        "            return_array[x] = (x, [y])\n",
        "            \n",
        "    return return_array.items()"
      ]
    },
    {
      "cell_type": "markdown",
      "metadata": {
        "id": "kaGCr9UdUEOj"
      },
      "source": [
        "### Question"
      ]
    },
    {
      "cell_type": "markdown",
      "metadata": {
        "id": "l-Ogrl52UEOj"
      },
      "source": [
        "Créez la chaine de traitement MapShuffleReduce pour obtenir un résultat. Notez le temps nécessaire pour la réalisation de l’ensemble du traitement."
      ]
    },
    {
      "cell_type": "markdown",
      "metadata": {},
      "source": [
        "On récupère l'ensemble des epds pour l'ensemble des parties"
      ]
    },
    {
      "cell_type": "code",
      "execution_count": 19,
      "metadata": {},
      "outputs": [],
      "source": [
        "array_epds = get_epds()\n",
        "\n",
        "myMapped = list(map(myMap, array_epds))\n",
        "\n",
        "myShffled = myShuffle(myMapped)\n",
        "\n",
        "myReduced = myReducer(myShffled)"
      ]
    },
    {
      "cell_type": "code",
      "execution_count": 23,
      "metadata": {},
      "outputs": [
        {
          "name": "stdout",
          "output_type": "stream",
          "text": [
            "rnbqk2r/1p2bppp/p2p1n2/4p3/4P3/1NN5/PPP1BPPP/R1BQ1RK1 b kq - 11\n",
            "rnbqk1nr/ppppppbp/6p1/8/2PP4/8/PP2PPPP/RNBQKBNR w KQkq - 11\n",
            "rnbqkbnr/pp1p1ppp/4p3/2p5/4P3/2N2N2/PPPP1PPP/R1BQKB1R b KQkq - 11\n",
            "rnbqkb1r/ppp1pppp/3p1n2/8/2PP4/8/PP2PPPP/RNBQKBNR w KQkq - 11\n",
            "rn1qkb1r/p1pp1ppp/bp2pn2/8/2PP4/5NP1/PP1NPP1P/R1BQKB1R b KQkq - 11\n",
            "rn1qkb1r/pbp2ppp/1p2p3/3n4/3P4/P1N2N2/1PQ1PPPP/R1B1KB1R b KQkq - 11\n",
            "rnbqkb1r/pppppp1p/5np1/8/2P5/2N5/PP1PPPPP/R1BQKBNR w KQkq - 11\n",
            "r1bqkbnr/pp1p1ppp/2n1p3/2p5/3PP3/2N2N2/PPP2PPP/R1BQKB1R b KQkq - 11\n",
            "r1bqkbnr/pp1p1ppp/2n1p3/8/3pP3/2N2N2/PPP2PPP/R1BQKB1R w KQkq - 11\n",
            "rnbqk2r/pp1p1ppp/4pn2/8/1bPp4/2N1P3/PP2NPPP/R1BQKB1R w KQkq - 11\n",
            "rnbqk2r/pp1p1ppp/4pn2/8/1bPP4/2N5/PP2NPPP/R1BQKB1R b KQkq - 11\n",
            "r1bqkb1r/pp1ppppp/2n2n2/2p5/2PP4/2N2N2/PP2PPPP/R1BQKB1R b KQkq - 11\n",
            "r1bqkb1r/pp1ppppp/2n2n2/8/2Pp4/2N2N2/PP2PPPP/R1BQKB1R w KQkq - 11\n",
            "rnbqkbnr/ppp2ppp/3p4/4p3/2P5/2N5/PP1PPPPP/R1BQKBNR w KQkq - 11\n",
            "r1bqk2r/pppn1ppp/4pn2/3P2B1/1b1P4/2N2N2/PP2PPPP/R2QKB1R b KQkq - 11\n",
            "rnbqkb1r/ppp2ppp/4pn2/8/2pP4/4PN2/PP3PPP/RNBQKB1R w KQkq - 11\n",
            "rn1qkb1r/pp2pppp/2p2n2/3p1b2/2PP4/4PN2/PP3PPP/RNBQKB1R w KQkq - 11\n",
            "rn1q1rk1/pbpp1ppp/1p2pn2/6B1/2PP4/P1Q2P2/1P2P1PP/R3KBNR b KQ - 11\n",
            "rnbq1rk1/pp2ppbp/6p1/8/3pP3/2P2N2/P3BPPP/1RBQK2R w K - 11\n",
            "rnbq1rk1/pp2ppbp/6p1/8/3PP3/5N2/P3BPPP/1RBQK2R b K - 11\n",
            "rnb2rk1/pp2ppbp/6p1/q7/3PP3/5N2/P3BPPP/1RBQK2R w K - 11\n",
            "rnb2rk1/pp2ppbp/6p1/q7/3PP3/5N2/P2BBPPP/1R1QK2R b K - 11\n",
            "rnb2rk1/pp2ppbp/6p1/8/3PP3/5N2/q2BBPPP/1R1QK2R w K - 11\n",
            "rnb2rk1/pp2ppbp/6p1/8/3PP3/5N2/q2BBPPP/1R1Q1RK1 b - - 11\n",
            "rnbqkb1r/1p2pppp/p2p1n2/8/3NP3/2N1B3/PPP2PPP/R2QKB1R b KQkq - 11\n",
            "r1bqk2r/5pbp/p1np4/1p1NpP2/8/N1P5/PP3PPP/R2QKB1R b KQkq - 11\n",
            "r2qk2r/5pbp/p1np4/1p1Npb2/8/N1P5/PP3PPP/R2QKB1R w KQkq - 11\n",
            "r2qk2r/5pbp/p1np4/1p1Npb2/8/2P5/PPN2PPP/R2QKB1R b KQkq - 11\n",
            "rn1qkb1r/pbpp1ppp/1p2pn2/8/Q1PP4/5NP1/PP2PP1P/RNB1KB1R w KQkq - 11\n",
            "rn1qkb1r/pbpp1ppp/1p2pn2/8/Q1PP4/5NP1/PP2PPBP/RNB1K2R b KQkq - 11\n",
            "rnbqk2r/pppp1ppp/4pn2/8/1bPP4/2N2N2/PP2PPPP/R1BQKB1R b KQkq - 12\n",
            "rnbqkbnr/pppppp1p/6p1/8/2PP4/8/PP2PPPP/RNBQKBNR b KQkq - 12\n",
            "rnbqkb1r/pppppp1p/5np1/8/2P5/5N2/PP1PPPPP/RNBQKB1R w KQkq - 12\n",
            "r1bqkbnr/pp1ppppp/2n5/2p5/4P3/2N5/PPPP1PPP/R1BQKBNR w KQkq - 12\n",
            "rnbqkbnr/ppp2ppp/4p3/3p4/3PP3/8/PPPN1PPP/R1BQKBNR b KQkq - 12\n",
            "rnbqkb1r/ppp2ppp/5n2/3p4/3P4/2N5/PP2PPPP/R1BQKBNR w KQkq - 12\n",
            "rnbqkb1r/ppp2ppp/5n2/3p2B1/3P4/2N5/PP2PPPP/R2QKBNR b KQkq - 12\n",
            "rnbqkb1r/ppp2ppp/4pn2/3p2B1/3PP3/2N5/PPP2PPP/R2QKBNR b KQkq - 12\n",
            "r1bqkb1r/ppp2ppp/2n2n2/3pp3/2P5/2N2NP1/PP1PPP1P/R1BQKB1R w KQkq - 12\n",
            "r1bqkb1r/ppp2ppp/2n2n2/3Pp3/8/2N2NP1/PP1PPP1P/R1BQKB1R b KQkq - 12\n",
            "r1bqkb1r/ppp2ppp/2n5/3np3/8/2N2NP1/PP1PPP1P/R1BQKB1R w KQkq - 12\n",
            "r1bqkb1r/ppp2ppp/2n5/3np3/8/2N2NP1/PP1PPPBP/R1BQK2R b KQkq - 12\n",
            "r1bqkb1r/ppp2ppp/1nn5/4p3/8/2N2NP1/PP1PPPBP/R1BQK2R w KQkq - 12\n",
            "r1bqk2r/pppn1ppp/4pn2/3p2B1/1bPP4/2N2N2/PP2PPPP/R2QKB1R w KQkq - 12\n",
            "rnbqk2r/p1pp1ppp/1p2pn2/8/1bPP4/2N1P3/PP3PPP/R1BQKBNR w KQkq - 12\n",
            "rn1qkb1r/p1pp1ppp/bp2pn2/8/2PP4/1Q3NP1/PP2PP1P/RNB1KB1R b KQkq - 12\n",
            "r1bq1rk1/pp3ppp/2n1pn2/2pp4/1bPP4/P1NBPN2/1P3PPP/R1BQ1RK1 b - - 12\n",
            "r1bqk2r/pppp1ppp/2n2n2/3Np3/1bP5/5NP1/PP1PPP1P/R1BQKB1R b KQkq - 12\n",
            "rn1qkb1r/pb1p1ppp/1p2pn2/2p5/Q1PP4/5NP1/PP2PPBP/RNB1K2R w KQkq - 12\n",
            "rnbqk2r/ppp1bppp/4pn2/3p4/2PP1B2/2N2N2/PP2PPPP/R2QKB1R b KQkq - 12\n",
            "rnbq1rk1/ppp1bppp/4pn2/3p4/2PP1B2/2N2N2/PP2PPPP/R2QKB1R w KQ - 12\n",
            "rnbq1rk1/ppp1bppp/4pn2/3p4/2PP1B2/2N1PN2/PP3PPP/R2QKB1R b KQ - 12\n",
            "rnbqkb1r/1p2pppp/p2p1n2/8/3NP3/2N5/PPP1BPPP/R1BQK2R b KQkq - 13\n",
            "rnbqkb1r/1p3ppp/p2p1n2/4p3/3NP3/2N5/PPP1BPPP/R1BQK2R w KQkq - 13\n",
            "rnbqkb1r/1p3ppp/p2p1n2/4p3/4P3/1NN5/PPP1BPPP/R1BQK2R b KQkq - 13\n",
            "rnbqk2r/1p2bppp/p2p1n2/4p3/4P3/1NN5/PPP1BPPP/R1BQK2R w KQkq - 13\n",
            "rnbqkbnr/pppppp1p/6p1/8/3P4/8/PPP1PPPP/RNBQKBNR w KQkq - 13\n",
            "rnbqk1nr/ppppppbp/6p1/8/2PPP3/8/PP3PPP/RNBQKBNR b KQkq - 13\n",
            "rnbqkbnr/pp1p1ppp/4p3/2p5/4P3/2N5/PPPP1PPP/R1BQKBNR w KQkq - 13\n",
            "rnbqkb1r/pp1ppppp/5n2/2p5/2P5/2N5/PP1PPPPP/R1BQKBNR w KQkq - 13\n",
            "rnbqk2r/ppp2ppp/4pn2/3p4/1bPP4/2N5/PPQ1PPPP/R1B1KBNR w KQkq - 13\n",
            "rnbq1rk1/ppp2pbp/3p1np1/4p3/2PPP3/2N1BN2/PP2BPPP/R2QK2R b KQ - 13\n",
            "rnbq1rk1/pp1p1ppp/4pn2/2p5/1bPP4/2NBPN2/PP3PPP/R1BQK2R b KQ - 13\n",
            "r1bqkbnr/pp1p1ppp/2n1p3/2p5/4P3/2N2N2/PPPP1PPP/R1BQKB1R w KQkq - 13\n",
            "rnbqkb1r/ppppp1pp/5n2/5p2/3P4/6P1/PPP1PPBP/RNBQK1NR b KQkq - 13\n",
            "r1bqkbnr/pppp1ppp/2n5/4p3/2P5/2N5/PP1PPPPP/R1BQKBNR w KQkq - 13\n",
            "r1bqkbnr/pppp1ppp/2n5/4p3/2P5/2N2N2/PP1PPPPP/R1BQKB1R b KQkq - 13\n",
            "rnbqkb1r/ppp2ppp/4pn2/3p4/2PP4/6P1/PP2PP1P/RNBQKBNR w KQkq - 13\n",
            "r2qk2r/pp1n1ppp/2p1pn2/5b2/PbBP4/2N1PN2/1P3PPP/R1BQ1RK1 w kq - 13\n",
            "rnbqkb1r/1p2pppp/p1p2n2/3p4/2PP4/2N2N2/PP2PPPP/R1BQKB1R w KQkq - 13\n",
            "r1bq1rk1/5ppp/p1np1b2/1p1Np3/4P3/N1P5/PP3PPP/R2QKB1R w KQ - 13\n",
            "r1bq1rk1/5ppp/p1np1b2/1p1Np3/4P3/2P5/PPN2PPP/R2QKB1R b KQ - 13\n",
            "r1bqkbnr/pp2pppp/2np4/1Bp5/4P3/5N2/PPPP1PPP/RNBQK2R w KQkq - 13\n",
            "r1bqk2r/5pbp/p1np4/1p1Npp2/4P3/N1P5/PP3PPP/R2QKB1R w KQkq - 13\n",
            "rnbq1rk1/pp3ppp/4pn2/2p5/1bpP4/2NBPN2/PP3PPP/R1BQ1RK1 w - - 13\n",
            "rnbqkb1r/pppppp1p/5np1/8/3P4/5N2/PPP1PPPP/RNBQKB1R w KQkq - 14\n",
            "r1bq1rk1/ppp2pbp/2np1np1/4p3/2PPP3/2N2N2/PP2BPPP/R1BQ1RK1 w - - 14\n",
            "r1bq1rk1/ppp2pbp/2np1np1/3Pp3/2P1P3/2N2N2/PP2BPPP/R1BQ1RK1 b - - 14\n",
            "r1bq1rk1/ppp1npbp/3p1np1/3Pp3/2P1P3/2N2N2/PP2BPPP/R1BQ1RK1 w - - 14\n",
            "rnbqk1nr/ppp1ppbp/3p2p1/8/2PPP3/8/PP3PPP/RNBQKBNR w KQkq - 14\n",
            "rnbq1rk1/pp1p1ppp/4pn2/2p5/1bPP4/2NBP3/PP3PPP/R1BQK1NR w KQ - 14\n",
            "rnbqkb1r/ppp2ppp/4pn2/3P4/3P4/2N5/PP2PPPP/R1BQKBNR b KQkq - 14\n",
            "rn1qk2r/p2pbppp/bpp1pn2/8/2PP4/1PB2NP1/P3PPBP/RN1QK2R b KQkq - 14\n",
            "rnbqkbnr/pp1ppppp/2p5/8/2P5/8/PP1PPPPP/RNBQKBNR w KQkq - 14\n",
            "rnbqkbnr/ppp2ppp/4p3/3p4/2P5/2N5/PP1PPPPP/R1BQKBNR w KQkq - 14\n",
            "r1bq1rk1/pp3ppp/2n1pn2/2pp4/1bPP4/2NBPN2/PP3PPP/R1BQ1RK1 w - - 14\n",
            "r1bqk2r/pppp1ppp/2n2n2/4p3/1bP5/2N2NP1/PP1PPP1P/R1BQKB1R w KQkq - 14\n",
            "rnbq1rk1/ppp1bppp/4pn2/8/2pP4/5NP1/PPQ1PPBP/RNB2RK1 b - - 14\n",
            "rnbq1rk1/1pp1bppp/p3pn2/8/2pP4/5NP1/PPQ1PPBP/RNB2RK1 w - - 14\n",
            "rnbq1rk1/pp2ppbp/3p1np1/2p3B1/2PPP3/2N2P2/PP4PP/R2QKBNR w KQ - 14\n",
            "rnbqkb1r/ppp1pppp/5n2/8/2pP4/4P3/PP3PPP/RNBQKBNR w KQkq - 14\n",
            "rnbqkb1r/ppp1pppp/5n2/8/2BP4/4P3/PP3PPP/RNBQK1NR b KQkq - 14\n",
            "rnbqkb1r/ppp2ppp/4pn2/8/2BP4/4P3/PP3PPP/RNBQK1NR w KQkq - 14\n",
            "r1bqkb1r/5ppp/p1np1n2/1p1Np1B1/4P3/N7/PPP2PPP/R2QKB1R b KQkq - 14\n",
            "r1bqk2r/4bppp/p1np1n2/1p1Np1B1/4P3/N7/PPP2PPP/R2QKB1R w KQkq - 14\n",
            "r1bqk2r/4bppp/p1np1B2/1p1Np3/4P3/N7/PPP2PPP/R2QKB1R b KQkq - 14\n",
            "r1bqk2r/5ppp/p1np1b2/1p1Np3/4P3/N7/PPP2PPP/R2QKB1R w KQkq - 14\n",
            "r1bqk2r/5ppp/p1np1b2/1p1Np3/4P3/N1P5/PP3PPP/R2QKB1R b KQkq - 14\n",
            "r1bqk2r/5pbp/p1np1p2/1p1Np3/4P3/N7/PPP2PPP/R2QKB1R w KQkq - 14\n",
            "rnbq1rk1/pp3ppp/4pn2/2p5/1bBP4/2N1PN2/PP3PPP/R1BQ1RK1 b - - 14\n",
            "rn1qkb1r/p1pp1ppp/bp2pn2/8/Q1PP4/5NP1/PP2PP1P/RNB1KB1R b KQkq - 14\n",
            "rnbqkbnr/pp3ppp/2p1p3/3p4/2PP4/5N2/PP2PPPP/RNBQKB1R w KQkq - 14\n",
            "r1bqkbnr/pp1p1ppp/2n1p3/1Bp5/4P3/5N2/PPPP1PPP/RNBQK2R w KQkq - 14\n",
            "rnbqk1nr/ppp1bppp/4p3/3p4/2PP4/2N5/PP2PPPP/R1BQKBNR w KQkq - 15\n",
            "rnbqk2r/ppp2ppp/4pn2/3p2B1/1bPP4/2N2N2/PP2PPPP/R2QKB1R b KQkq - 15\n",
            "r1b1kbnr/ppqp1ppp/2n1p3/8/3NP3/2N3P1/PPP2P1P/R1BQKB1R b KQkq - 15\n",
            "r1b1kbnr/1pqp1ppp/p1n1p3/8/3NP3/2N3P1/PPP2P1P/R1BQKB1R w KQkq - 15\n",
            "r1b1kbnr/1pqp1ppp/p1n1p3/8/3NP3/2N3P1/PPP2PBP/R1BQK2R b KQkq - 15\n",
            "r1bqkb1r/pp1p1ppp/2n1pn2/8/2PN4/2N5/PP2PPPP/R1BQKB1R w KQkq - 15\n",
            "rnbqkbnr/ppppp1pp/8/5p2/3P4/6P1/PPP1PP1P/RNBQKBNR b KQkq - 15\n",
            "rnbqkb1r/ppppp1pp/5n2/5p2/3P4/6P1/PPP1PP1P/RNBQKBNR w KQkq - 15\n",
            "rnbq1rk1/pp2ppbp/3p1np1/2pP2B1/2P1P3/2N2P2/PP4PP/R2QKBNR b KQ - 15\n",
            "rnbqkbnr/ppp2ppp/4p3/8/2pP4/5N2/PP2PPPP/RNBQKB1R w KQkq - 15\n",
            "rnbqk2r/pp2ppbp/6p1/2p5/3PP3/2P2N2/P4PPP/1RBQKB1R b Kkq - 16\n",
            "rnbq1rk1/pp2ppbp/6p1/2p5/3PP3/2P2N2/P4PPP/1RBQKB1R w K - 16\n",
            "rnbqkbnr/ppp1pppp/8/8/2pP4/5N2/PP2PPPP/RNBQKB1R b KQkq - 16\n",
            "rnbqkb1r/pp3ppp/2p1pn2/3p2B1/2PP4/2N2N2/PP2PPPP/R2QKB1R b KQkq - 16\n",
            "r1b1kb1r/1pqp1ppp/p1n1pn2/8/3NP3/2N1B3/PPP1BPPP/R2Q1RK1 b kq - 16\n",
            "rnbqkbnr/ppp1pppp/8/8/2pPP3/8/PP3PPP/RNBQKBNR b KQkq - 16\n",
            "rnbqkbnr/pppp1ppp/4p3/8/2P5/2N5/PP1PPPPP/R1BQKBNR b KQkq - 16\n",
            "r1bqkb1r/pp1ppppp/2n2n2/8/2PN4/2N5/PP2PPPP/R1BQKB1R b KQkq - 16\n",
            "rn1q1rk1/pbpp1ppp/1p2pn2/6B1/2PP4/P1Q5/1P2PPPP/R3KBNR w KQ - 16\n",
            "rnbqk2r/pp1p1ppp/4pn2/2p5/1bPP4/2N1P3/PP2NPPP/R1BQKB1R b KQkq - 16\n",
            "r1bqk2r/pppn1ppp/5n2/3p2B1/1b1P4/2N2N2/PP2PPPP/R2QKB1R w KQkq - 16\n",
            "r2qkb1r/pb1n1ppp/2p1pn2/1p6/3P4/2NBPN2/PP3PPP/R1BQK2R w KQkq - 16\n",
            "rnbq1rk1/ppp1bppp/4pn2/3p4/2PP4/5NP1/PP2PPBP/RNBQ1RK1 b - - 16\n",
            "rnbq1rk1/ppp1bppp/4pn2/8/2pP4/5NP1/PP2PPBP/RNBQ1RK1 w - - 16\n",
            "rnbqkbnr/pp3ppp/2p1p3/3p4/2PP4/2N1P3/PP3PPP/R1BQKBNR b KQkq - 16\n",
            "r1bqkbnr/pp1ppppp/2n5/2p5/4P3/2N2N2/PPPP1PPP/R1BQKB1R b KQkq - 16\n",
            "rnbqkb1r/p2ppppp/5n2/1PpP4/8/8/PP2PPPP/RNBQKBNR b KQkq - 17\n",
            "rnbqkb1r/3ppppp/p4n2/1PpP4/8/8/PP2PPPP/RNBQKBNR w KQkq - 17\n",
            "rnbqk1nr/ppp1ppbp/3p2p1/8/2PPP3/2N5/PP3PPP/R1BQKBNR b KQkq - 17\n",
            "rn1qk2r/p2pbppp/bpp1pn2/8/2PP4/1P3NP1/P2BPPBP/RN1QK2R w KQkq - 17\n",
            "r1b1kbnr/1pqp1ppp/p1n1p3/8/3NP3/2N5/PPP1BPPP/R1BQ1RK1 b kq - 17\n",
            "rnbqkb1r/pp1p1ppp/4pn2/2p5/2P5/2N2N2/PP1PPPPP/R1BQKB1R w KQkq - 17\n",
            "rnbqk1nr/ppp2ppp/4p3/3p4/1bPP4/2N5/PP2PPPP/R1BQKBNR w KQkq - 17\n",
            "r1bqkbnr/1ppp1ppp/p1n5/4p3/B3P3/5N2/PPPP1PPP/RNBQK2R b KQkq - 17\n",
            "rnbqk2r/ppp1ppbp/6p1/8/3PP3/2P2N2/P4PPP/R1BQKB1R b KQkq - 18\n",
            "rnbq1rk1/pp2ppbp/6p1/2p5/3PP3/2P2N2/P3BPPP/1RBQK2R b K - 18\n",
            "rnbqkb1r/ppp2ppp/4pn2/3p4/2PP4/2N5/PP2PPPP/R1BQKBNR w KQkq - 18\n",
            "rn1qk2r/p1ppbppp/bp2pn2/8/2PP4/1P3NP1/P2BPPBP/RN1QK2R b KQkq - 18\n",
            "r1b1kb1r/1pqp1ppp/p1n1pn2/8/3NP3/2N5/PPP1BPPP/R1BQ1RK1 w kq - 18\n",
            "r1bqkbnr/pp1ppppp/2n5/2p5/2P5/5N2/PP1PPPPP/RNBQKB1R w KQkq - 18\n",
            "r1bqkb1r/pp1n1ppp/2p1pn2/3p4/2PP4/2N1PN2/PPQ2PPP/R1B1KB1R b KQkq - 18\n",
            "r1bqk2r/pp1n1ppp/2pbpn2/3p4/2PP4/2N1PN2/PPQ2PPP/R1B1KB1R w KQkq - 18\n",
            "rnbqkbnr/ppp1pppp/8/8/2pP4/4P3/PP3PPP/RNBQKBNR b KQkq - 18\n",
            "r1bqkb1r/pp3ppp/2nppn2/1N6/4P3/2N5/PPP2PPP/R1BQKB1R w KQkq - 18\n",
            "r1bqkb1r/pp3ppp/2nppn2/1N6/4PB2/2N5/PPP2PPP/R2QKB1R b KQkq - 18\n",
            "r1bqkb1r/pp3ppp/2np1n2/1N2p3/4PB2/2N5/PPP2PPP/R2QKB1R w KQkq - 18\n",
            "rnbqkb1r/ppp2ppp/4pn2/3p4/3PP3/2N5/PPP2PPP/R1BQKBNR w KQkq - 19\n",
            "rnbqk2r/pp2ppbp/6p1/2p5/3PP3/2P2N2/P4PPP/R1BQKB1R w KQkq - 19\n",
            "r1b1kbnr/ppqp1ppp/2n1p3/8/3NP3/2N5/PPP1BPPP/R1BQK2R b KQkq - 19\n",
            "r1b1kbnr/1pqp1ppp/p1n1p3/8/3NP3/2N5/PPP1BPPP/R1BQK2R w KQkq - 19\n",
            "rnbq1rk1/ppp1ppbp/3p1np1/6B1/2PPP3/2N2P2/PP4PP/R2QKBNR b KQ - 19\n",
            "rnbqkb1r/pp3ppp/4pn2/2p5/2BP4/4PN2/PP3PPP/RNBQ1RK1 b kq - 19\n",
            "r1bqkbnr/1p1p1ppp/p1n1p3/8/3NP3/2N5/PPP2PPP/R1BQKB1R w KQkq - 19\n",
            "rnbqkb1r/ppp2ppp/4pn2/3p4/2PP4/5NP1/PP2PP1P/RNBQKB1R b KQkq - 20\n",
            "rn1qkb1r/pbp2ppp/1p2pn2/3P4/3P4/P1N2N2/1P2PPPP/R1BQKB1R b KQkq - 20\n",
            "rn1qkb1r/pbp2ppp/1p2p3/3n4/3P4/P1N2N2/1P2PPPP/R1BQKB1R w KQkq - 20\n",
            "rnbqkbnr/ppppp1pp/8/5p2/3P4/8/PPP1PPPP/RNBQKBNR w KQkq - 20\n",
            "r1bqkbnr/pppp1ppp/2n5/4p3/3PP3/5N2/PPP2PPP/RNBQKB1R b KQkq - 20\n",
            "r1bqkbnr/pppp1ppp/2n5/8/3pP3/5N2/PPP2PPP/RNBQKB1R w KQkq - 20\n",
            "r1bqkbnr/pppp1ppp/2n5/8/3NP3/8/PPP2PPP/RNBQKB1R b KQkq - 20\n",
            "rn1qkb1r/pp3ppp/2p1pn2/5b2/P1pP4/2N1PN2/1P3PPP/R1BQKB1R w KQkq - 20\n",
            "rn1qkb1r/pp3ppp/2p1pn2/5b2/P1BP4/2N1PN2/1P3PPP/R1BQK2R b KQkq - 20\n",
            "rn1qk2r/pp3ppp/2p1pn2/5b2/PbBP4/2N1PN2/1P3PPP/R1BQK2R w KQkq - 20\n",
            "rn1qk2r/pp3ppp/2p1pn2/5b2/PbBP4/2N1PN2/1P3PPP/R1BQ1RK1 b kq - 20\n",
            "r1bqkb1r/pp1p1ppp/2n1pn2/1N6/4P3/2N5/PPP2PPP/R1BQKB1R b KQkq - 20\n",
            "r1bqkb1r/pp1p1ppp/2n2n2/1N2p3/4P3/2N5/PPP2PPP/R1BQKB1R b KQkq - 20\n",
            "r1bqkb1r/pp3ppp/2np1n2/1N2p3/4P3/2N5/PPP2PPP/R1BQKB1R w KQkq - 20\n",
            "rnbqkbnr/pp1ppppp/8/2p5/4P3/2P5/PP1P1PPP/RNBQKBNR b KQkq - 21\n",
            "rnbqk2r/pp1p1ppp/4pn2/2p5/1bPP4/2N1P3/PP3PPP/R1BQKBNR w KQkq - 21\n",
            "r1bqkbnr/1ppp1ppp/p1n5/1B2p3/4P3/5N2/PPPP1PPP/RNBQK2R w KQkq - 21\n",
            "rn1qkb1r/pp2pppp/2p2n2/5b2/P1pP4/2N1PN2/1P3PPP/R1BQKB1R b KQkq - 21\n",
            "r1bqkb1r/pp1p1ppp/2n2n2/4p3/3NP3/2N5/PPP2PPP/R1BQKB1R w KQkq - 21\n",
            "r1bqkb1r/pp1ppppp/2n2n2/8/3NP3/8/PPP2PPP/RNBQKB1R w KQkq - 21\n",
            "rnbqkbnr/ppp2ppp/4p3/3p4/3PP3/2N5/PPP2PPP/R1BQKBNR b KQkq - 22\n",
            "r1bqkb1r/pp1ppppp/2n2n2/2p5/2P5/2N2N2/PP1PPPPP/R1BQKB1R w KQkq - 22\n",
            "rnbqkb1r/p2ppppp/5n2/1ppP4/2P5/8/PP2PPPP/RNBQKBNR w KQkq - 23\n",
            "rnbq1rk1/ppp2pbp/3p1np1/4p3/2PPP3/2N2N2/PP2BPPP/R1BQ1RK1 b - - 23\n",
            "rnbq1rk1/p1pp1ppp/1p2pn2/6B1/2PP4/P1Q5/1P2PPPP/R3KBNR b KQ - 23\n",
            "r1bqkb1r/pp1ppppp/2n2n2/8/3NP3/2N5/PPP2PPP/R1BQKB1R b KQkq - 23\n",
            "rnbqkbnr/ppp1pppp/3p4/8/3P4/8/PPP1PPPP/RNBQKBNR w KQkq - 24\n",
            "rnbqkb1r/pppp1ppp/4pn2/8/2PP4/6P1/PP2PP1P/RNBQKBNR b KQkq - 24\n",
            "rnbq1rk1/ppp2ppp/4pn2/3p4/1bPP4/2NBPN2/PP3PPP/R1BQK2R b KQ - 24\n",
            "rnbqkb1r/pp2pppp/2p2n2/3p4/2PP4/4PN2/PP3PPP/RNBQKB1R b KQkq - 24\n",
            "r1bqkb1r/5ppp/p1np1B2/1p2p3/4P3/N1N5/PPP2PPP/R2QKB1R b KQkq - 24\n",
            "r1bqkb1r/5p1p/p1np1p2/1p2p3/4P3/N1N5/PPP2PPP/R2QKB1R w KQkq - 24\n",
            "r1bqkb1r/5p1p/p1np1p2/1p1Np3/4P3/N7/PPP2PPP/R2QKB1R b KQkq - 24\n",
            "rnbqk2r/ppp1bppp/4pn2/3p4/2PP4/2N2N2/PP2PPPP/R1BQKB1R w KQkq - 25\n",
            "rnbq1rk1/ppp2ppp/4pn2/3p4/1bPP4/2NBP3/PP3PPP/R1BQK1NR w KQ - 25\n",
            "rnbqkbnr/pppp1ppp/4p3/8/2P5/8/PP1PPPPP/RNBQKBNR w KQkq - 25\n",
            "rnbqkb1r/ppp2ppp/4pn2/8/2BP4/4PN2/PP3PPP/RNBQK2R b KQkq - 25\n",
            "rnbqkb1r/pp3ppp/4pn2/2p5/2BP4/4PN2/PP3PPP/RNBQK2R w KQkq - 25\n",
            "rnbqkb1r/pp1p1ppp/4pn2/8/3NP3/8/PPP2PPP/RNBQKB1R w KQkq - 25\n",
            "rnbqkb1r/pp1p1ppp/4pn2/8/3NP3/2N5/PPP2PPP/R1BQKB1R b KQkq - 25\n",
            "rnbqkbnr/ppp2ppp/4p3/3p4/3P4/5N2/PPP1PPPP/RNBQKB1R w KQkq - 25\n",
            "rn1qk2r/p1pp1ppp/bp2pn2/8/1bPP4/1P3NP1/P3PP1P/RNBQKB1R w KQkq - 26\n",
            "rn1qk2r/p1pp1ppp/bp2pn2/8/1bPP4/1P3NP1/P2BPP1P/RN1QKB1R b KQkq - 26\n",
            "rn1qk2r/p1ppbppp/bp2pn2/8/2PP4/1P3NP1/P2BPP1P/RN1QKB1R w KQkq - 26\n",
            "rnbqk2r/ppp2ppp/4pn2/3p4/1bPP4/2N2N2/PP2PPPP/R1BQKB1R w KQkq - 26\n",
            "rnbq1rk1/ppp1ppbp/3p1np1/8/2PPP3/2N1BP2/PP4PP/R2QKBNR b KQ - 26\n",
            "rnbq1rk1/pppp1ppp/4pn2/8/1bPP4/P1N5/1PQ1PPPP/R1B1KBNR b KQ - 26\n",
            "rnbq1rk1/pppp1ppp/4pn2/8/2PP4/P1b5/1PQ1PPPP/R1B1KBNR w KQ - 26\n",
            "rnbq1rk1/pppp1ppp/4pn2/8/2PP4/P1Q5/1P2PPPP/R1B1KBNR b KQ - 26\n",
            "rnbq1rk1/p1pp1ppp/1p2pn2/8/2PP4/P1Q5/1P2PPPP/R1B1KBNR w KQ - 26\n",
            "rnbqkbnr/ppp1pppp/8/3p4/8/5N2/PPPPPPPP/RNBQKB1R w KQkq - 26\n",
            "rnbqkb1r/1p3ppp/p3pn2/2p5/2BP4/4PN2/PP3PPP/RNBQ1RK1 w kq - 26\n",
            "rnbqk2r/ppp1ppbp/6p1/8/3PP3/2P5/P4PPP/R1BQKBNR w KQkq - 27\n",
            "rn1qkb1r/pbpp1ppp/1p2pn2/8/2PP4/P4N2/1P2PPPP/RNBQKB1R w KQkq - 28\n",
            "rn1qkb1r/p1pp1ppp/bp2pn2/8/2PP4/1P3NP1/P3PP1P/RNBQKB1R b KQkq - 28\n",
            "rnbqkb1r/ppp1pppp/5n2/3p4/2PP4/5N2/PP2PPPP/RNBQKB1R b KQkq - 29\n",
            "rnbqkb1r/ppp1pp1p/5np1/3P4/3P4/2N5/PP2PPPP/R1BQKBNR b KQkq - 29\n",
            "rnbqkb1r/ppp1pp1p/6p1/3n4/3P4/2N5/PP2PPPP/R1BQKBNR w KQkq - 29\n",
            "rnbqkb1r/ppp1pp1p/6p1/3n4/3PP3/2N5/PP3PPP/R1BQKBNR b KQkq - 29\n",
            "rnbqkb1r/ppp1pp1p/6p1/8/3PP3/2n5/PP3PPP/R1BQKBNR w KQkq - 29\n",
            "rnbqkb1r/ppp1pp1p/6p1/8/3PP3/2P5/P4PPP/R1BQKBNR b KQkq - 29\n",
            "rnbq1rk1/pppp1ppp/4pn2/8/1bPP4/2N5/PPQ1PPPP/R1B1KBNR w KQ - 29\n",
            "r1bqkb1r/pp1p1ppp/2n1pn2/8/3NP3/2N5/PPP2PPP/R1BQKB1R w KQkq - 29\n",
            "rnbq1rk1/pp3ppp/4pn2/2pp4/1bPP4/2NBPN2/PP3PPP/R1BQK2R w KQ - 30\n",
            "rnbq1rk1/pp3ppp/4pn2/2pp4/1bPP4/2NBPN2/PP3PPP/R1BQ1RK1 b - - 30\n",
            "rn1qkb1r/pbp2ppp/1p2pn2/3p4/2PP4/P1N2N2/1P2PPPP/R1BQKB1R w KQkq - 31\n",
            "rnbqkbnr/pp1ppppp/8/2p5/4P3/2N5/PPPP1PPP/R1BQKBNR b KQkq - 31\n",
            "r1bqkbnr/pppp1ppp/2n5/1B2p3/4P3/5N2/PPPP1PPP/RNBQK2R b KQkq - 31\n",
            "rn1qkb1r/pp2pppp/2p2n2/5b2/P1pP4/2N2N2/1P2PPPP/R1BQKB1R w KQkq - 31\n",
            "rnbqkbnr/pp3ppp/2p1p3/3p4/2PP4/2N5/PP2PPPP/R1BQKBNR w KQkq - 33\n",
            "rnbqkb1r/pppp1ppp/5n2/4p3/2P5/2N2N2/PP1PPPPP/R1BQKB1R b KQkq - 33\n",
            "r1bqkb1r/p2n1ppp/2p1pn2/1p6/3P4/2NBPN2/PP3PPP/R1BQK2R b KQkq - 33\n",
            "rnbqkb1r/pppp1ppp/5n2/4p3/2P5/2N5/PP1PPPPP/R1BQKBNR w KQkq - 34\n",
            "r1bqkb1r/pppp1ppp/2n2n2/4p3/2P5/2N2NP1/PP1PPP1P/R1BQKB1R b KQkq - 34\n",
            "rnbqkbnr/pp1ppppp/8/2p5/8/5N2/PPPPPPPP/RNBQKB1R w KQkq - 34\n",
            "rnbqkb1r/ppp1pppp/5n2/3p4/3P4/5N2/PPP1PPPP/RNBQKB1R w KQkq - 35\n",
            "rnbqkb1r/p1pp1ppp/1p2pn2/8/2PP4/P4N2/1P2PPPP/RNBQKB1R b KQkq - 35\n",
            "rnbqkb1r/pp2pppp/2p2n2/8/P1pP4/2N2N2/1P2PPPP/R1BQKB1R b KQkq - 35\n",
            "rnbqkbnr/pppp1ppp/4p3/8/2PP4/8/PP2PPPP/RNBQKBNR b KQkq - 36\n",
            "rnbqkb1r/pp1ppppp/5n2/2pP4/2P5/8/PP2PPPP/RNBQKBNR b KQkq - 36\n",
            "rnbqk2r/ppp1ppbp/3p1np1/8/2PPP3/2N2N2/PP3PPP/R1BQKB1R b KQkq - 36\n",
            "rnbqkbnr/ppp2ppp/4p3/3p4/3PP3/8/PPP2PPP/RNBQKBNR w KQkq - 36\n",
            "rnbqkb1r/pppp1ppp/4pn2/8/3P4/5N2/PPP1PPPP/RNBQKB1R w KQkq - 36\n",
            "rn1qkb1r/pbpp1ppp/1p2pn2/8/2PP4/P1N2N2/1P2PPPP/R1BQKB1R b KQkq - 36\n",
            "rnbqkb1r/pp2pppp/2p2n2/8/2pP4/2N2N2/PP2PPPP/R1BQKB1R w KQkq - 36\n",
            "rnbqkbnr/ppp2ppp/4p3/3p4/2PP4/5N2/PP2PPPP/RNBQKB1R b KQkq - 36\n",
            "rnbqkb1r/pp1ppppp/5n2/2p5/2PP4/8/PP2PPPP/RNBQKBNR w KQkq - 37\n",
            "rnbq1rk1/ppp2pbp/3p1np1/4p3/2PPP3/2N2N2/PP2BPPP/R1BQK2R w KQ - 37\n",
            "rnbqkb1r/pppppppp/5n2/8/2P5/5N2/PP1PPPPP/RNBQKB1R b KQkq - 37\n",
            "rnbqkbnr/pppp1ppp/4p3/8/3PP3/8/PPP2PPP/RNBQKBNR b KQkq - 37\n",
            "rnbqkb1r/ppp1pp1p/5np1/3p4/2PP4/2N5/PP2PPPP/R1BQKBNR w KQkq - 37\n",
            "rnbqkb1r/pp3ppp/2p1pn2/3p4/2PP4/2N1P3/PP3PPP/R1BQKBNR w KQkq - 37\n",
            "r1bqkb1r/pp3ppp/2np1n2/1N2p1B1/4P3/2N5/PPP2PPP/R2QKB1R b KQkq - 37\n",
            "r1bqkb1r/1p3ppp/p1np1n2/1N2p1B1/4P3/2N5/PPP2PPP/R2QKB1R w KQkq - 37\n",
            "r1bqkb1r/1p3ppp/p1np1n2/4p1B1/4P3/N1N5/PPP2PPP/R2QKB1R b KQkq - 37\n",
            "r1bqkb1r/5ppp/p1np1n2/1p2p1B1/4P3/N1N5/PPP2PPP/R2QKB1R w KQkq - 37\n",
            "r1bqkbnr/pp1ppppp/2n5/1Bp5/4P3/5N2/PPPP1PPP/RNBQK2R b KQkq - 37\n",
            "r1bqkb1r/pp1n1ppp/2p1pn2/8/2pP4/2NBPN2/PP3PPP/R1BQK2R w KQkq - 38\n",
            "r1bqkb1r/pp1n1ppp/2p1pn2/8/2BP4/2N1PN2/PP3PPP/R1BQK2R b KQkq - 38\n",
            "r1bqkb1r/p2n1ppp/2p1pn2/1p6/2BP4/2N1PN2/PP3PPP/R1BQK2R w KQkq - 38\n",
            "rnbq1rk1/pppp1ppp/4pn2/8/1bPP4/2NBP3/PP3PPP/R1BQK1NR b KQ - 39\n",
            "rnbqkbnr/pppp1ppp/4p3/8/3P4/8/PPP1PPPP/RNBQKBNR w KQkq - 40\n",
            "rnbq1rk1/ppp1ppbp/3p1np1/8/2PPP3/2N2N2/PP3PPP/R1BQKB1R w KQ - 40\n",
            "rnbqkbnr/pppp1ppp/4p3/8/4P3/8/PPPP1PPP/RNBQKBNR w KQkq - 41\n",
            "r1bqkb1r/pppp1ppp/2n2n2/4p3/2P5/2N2N2/PP1PPPPP/R1BQKB1R w KQkq - 41\n",
            "rnbqkb1r/pppppppp/5n2/8/8/5N2/PPPPPPPP/RNBQKB1R w KQkq - 42\n",
            "r1bqkb1r/pp1n1ppp/2p1pn2/3p4/2PP4/2NBPN2/PP3PPP/R1BQK2R b KQkq - 42\n",
            "rnbq1rk1/ppp1ppbp/3p1np1/8/2PPP3/2N2P2/PP4PP/R1BQKBNR w KQ - 43\n",
            "rnbqkb1r/pppppppp/5n2/8/2P5/2N5/PP1PPPPP/R1BQKBNR b KQkq - 44\n",
            "rnbqkbnr/pp1ppppp/8/2p5/2P5/8/PP1PPPPP/RNBQKBNR w KQkq - 44\n",
            "rnbqkb1r/pp2pppp/2p2n2/3p4/2PP4/2N1P3/PP3PPP/R1BQKBNR b KQkq - 44\n",
            "rnbqk2r/ppp1ppbp/3p1np1/8/2PPP3/2N2P2/PP4PP/R1BQKBNR b KQkq - 45\n",
            "r1b1kbnr/ppqp1ppp/2n1p3/8/3NP3/2N5/PPP2PPP/R1BQKB1R w KQkq - 46\n",
            "rnbqkb1r/pp3ppp/2p1pn2/3p4/2PP4/2N2N2/PP2PPPP/R1BQKB1R w KQkq - 46\n",
            "rnbq1rk1/ppp1ppbp/3p1np1/8/2PPP3/2N2N2/PP2BPPP/R1BQK2R b KQ - 47\n",
            "rnbq1rk1/pppp1ppp/4pn2/8/1bPP4/2N1P3/PP3PPP/R1BQKBNR w KQ - 47\n",
            "rnbqkb1r/pp1ppppp/5n2/2p5/2P5/2N2N2/PP1PPPPP/R1BQKB1R b KQkq - 48\n",
            "rnbqkb1r/pp1ppppp/5n2/2p5/2P5/5N2/PP1PPPPP/RNBQKB1R w KQkq - 49\n",
            "rnbqkbnr/ppp1pppp/8/8/2pP4/8/PP2PPPP/RNBQKBNR w KQkq - 50\n",
            "rnbqkb1r/ppp2ppp/4pn2/3p4/2PP4/2N2N2/PP2PPPP/R1BQKB1R b KQkq - 51\n",
            "rnbqkbnr/pppp1ppp/8/4p3/2P5/2N5/PP1PPPPP/R1BQKBNR b KQkq - 52\n",
            "r1bqkbnr/pp1ppppp/2n5/2p5/3PP3/5N2/PPP2PPP/RNBQKB1R b KQkq - 53\n",
            "r1bqkbnr/pp1ppppp/2n5/8/3pP3/5N2/PPP2PPP/RNBQKB1R w KQkq - 53\n",
            "r1bqkbnr/pp1ppppp/2n5/8/3NP3/8/PPP2PPP/RNBQKB1R b KQkq - 53\n",
            "rnbqkb1r/pppppppp/5n2/8/3P4/5N2/PPP1PPPP/RNBQKB1R b KQkq - 54\n",
            "rnbqk2r/pppp1ppp/4pn2/8/1bPP4/2N5/PPQ1PPPP/R1B1KBNR b KQkq - 55\n",
            "rnbqkbnr/pppp1ppp/8/4p3/2P5/8/PP1PPPPP/RNBQKBNR w KQkq - 55\n",
            "rnbqkb1r/pppppppp/5n2/8/2P5/8/PP1PPPPP/RNBQKBNR w KQkq - 55\n",
            "rnbqkb1r/pp2pppp/2p2n2/3p4/2PP4/2N5/PP2PPPP/R1BQKBNR w KQkq - 56\n",
            "rnbqkbnr/ppp1pppp/8/3p4/3P4/5N2/PPP1PPPP/RNBQKB1R b KQkq - 58\n",
            "r1bqkbnr/pppp1ppp/2n5/4p3/4P3/5N2/PPPP1PPP/RNBQKB1R w KQkq - 60\n",
            "rnbqkb1r/1p2pppp/p2p1n2/8/3NP3/2N5/PPP2PPP/R1BQKB1R w KQkq - 61\n",
            "rnbqkbnr/pp1ppppp/8/2p5/2P5/5N2/PP1PPPPP/RNBQKB1R b KQkq - 61\n",
            "r1bqkb1r/pp1n1ppp/2p1pn2/3p4/2PP4/2N1PN2/PP3PPP/R1BQKB1R w KQkq - 61\n",
            "rnbqkbnr/pp2pppp/2p5/3p4/2PP4/2N5/PP2PPPP/R1BQKBNR b KQkq - 62\n",
            "r1bqkbnr/pp1p1ppp/2n1p3/8/3NP3/8/PPP2PPP/RNBQKB1R w KQkq - 65\n",
            "rn1qkb1r/p1pp1ppp/bp2pn2/8/2PP4/5NP1/PP2PP1P/RNBQKB1R w KQkq - 66\n",
            "rnbqkbnr/pp2pppp/3p4/8/3NP3/8/PPP2PPP/RNBQKB1R b KQkq - 68\n",
            "rnbqkb1r/pp2pppp/3p1n2/8/3NP3/8/PPP2PPP/RNBQKB1R w KQkq - 68\n",
            "rnbqkb1r/pp2pppp/3p1n2/8/3NP3/2N5/PPP2PPP/R1BQKB1R b KQkq - 68\n",
            "rnbqkb1r/p1pp1ppp/1p2pn2/8/2PP4/5NP1/PP2PP1P/RNBQKB1R b KQkq - 68\n",
            "r1bqkbnr/pp1p1ppp/2n1p3/8/3NP3/2N5/PPP2PPP/R1BQKB1R b KQkq - 68\n",
            "rnbqkb1r/pp3ppp/2p1pn2/3p4/2PP4/2N1PN2/PP3PPP/R1BQKB1R b KQkq - 68\n",
            "rnbqkbnr/pp2pppp/3p4/2p5/3PP3/5N2/PPP2PPP/RNBQKB1R b KQkq - 70\n",
            "rnbqkbnr/pp2pppp/3p4/8/3pP3/5N2/PPP2PPP/RNBQKB1R w KQkq - 70\n",
            "rnbqkbnr/pppp1ppp/8/4p3/4P3/5N2/PPPP1PPP/RNBQKB1R b KQkq - 71\n",
            "rnbqkb1r/ppp2ppp/4pn2/3p4/2PP4/5N2/PP2PPPP/RNBQKB1R w KQkq - 73\n",
            "rnbqkbnr/pppp1ppp/8/4p3/4P3/8/PPPP1PPP/RNBQKBNR w KQkq - 73\n",
            "rnbqkbnr/ppp2ppp/4p3/3p4/2PP4/2N5/PP2PPPP/R1BQKBNR b KQkq - 78\n",
            "rnbqkbnr/pp1p1ppp/4p3/2p5/3PP3/5N2/PPP2PPP/RNBQKB1R b KQkq - 79\n",
            "rnbqkbnr/pp1p1ppp/4p3/8/3pP3/5N2/PPP2PPP/RNBQKB1R w KQkq - 79\n",
            "rnbqkbnr/pp1p1ppp/4p3/8/3NP3/8/PPP2PPP/RNBQKB1R b KQkq - 79\n",
            "rnbqk2r/pppp1ppp/4pn2/8/1bPP4/2N1P3/PP3PPP/R1BQKBNR b KQkq - 80\n",
            "rnbqk2r/ppppppbp/5np1/8/2PPP3/2N5/PP3PPP/R1BQKBNR b KQkq - 82\n",
            "rnbqk2r/ppppppbp/5np1/8/2PP4/2N5/PP2PPPP/R1BQKBNR w KQkq - 83\n",
            "rnbqkb1r/pp2pppp/2p2n2/3p4/2PP4/2N2N2/PP2PPPP/R1BQKB1R b KQkq - 84\n",
            "rnbqkbnr/pp2pppp/3p4/2p5/4P3/5N2/PPPP1PPP/RNBQKB1R w KQkq - 85\n",
            "rnbqkbnr/ppp2ppp/4p3/3p4/2PP4/8/PP2PPPP/RNBQKBNR w KQkq - 86\n",
            "rnbqk2r/ppp1ppbp/3p1np1/8/2PPP3/2N5/PP3PPP/R1BQKBNR w KQkq - 95\n",
            "rnbqkbnr/pp1p1ppp/4p3/2p5/4P3/5N2/PPPP1PPP/RNBQKB1R w KQkq - 102\n",
            "rnbqkbnr/pp2pppp/2p5/3p4/2PP4/5N2/PP2PPPP/RNBQKB1R b KQkq - 104\n",
            "r1bqkbnr/pp1ppppp/2n5/2p5/4P3/5N2/PPPP1PPP/RNBQKB1R w KQkq - 107\n",
            "rnbqkb1r/pp2pppp/2p2n2/3p4/2PP4/5N2/PP2PPPP/RNBQKB1R w KQkq - 107\n",
            "rnbqkbnr/pppppppp/8/8/8/5N2/PPPPPPPP/RNBQKB1R b KQkq - 108\n",
            "rnbqkb1r/p1pp1ppp/1p2pn2/8/2PP4/5N2/PP2PPPP/RNBQKB1R w KQkq - 116\n",
            "rnbqkb1r/pppppp1p/5np1/8/2PP4/8/PP2PPPP/RNBQKBNR w KQkq - 120\n",
            "rnbqkb1r/pppppp1p/5np1/8/2PP4/2N5/PP2PPPP/R1BQKBNR b KQkq - 120\n",
            "rnbqk2r/pppp1ppp/4pn2/8/1bPP4/2N5/PP2PPPP/R1BQKBNR w KQkq - 155\n",
            "rnbqkb1r/pppp1ppp/4pn2/8/2PP4/2N5/PP2PPPP/R1BQKBNR b KQkq - 167\n",
            "rnbqkbnr/pp2pppp/2p5/3p4/2PP4/8/PP2PPPP/RNBQKBNR w KQkq - 168\n",
            "rnbqkb1r/pppp1ppp/4pn2/8/2PP4/5N2/PP2PPPP/RNBQKB1R b KQkq - 175\n",
            "rnbqkbnr/pppppppp/8/8/2P5/8/PP1PPPPP/RNBQKBNR b KQkq - 210\n",
            "rnbqkbnr/pp1ppppp/8/2p5/4P3/5N2/PPPP1PPP/RNBQKB1R b KQkq - 293\n",
            "rnbqkbnr/ppp1pppp/8/3p4/2PP4/8/PP2PPPP/RNBQKBNR b KQkq - 298\n",
            "rnbqkbnr/ppp1pppp/8/3p4/3P4/8/PPP1PPPP/RNBQKBNR w KQkq - 341\n",
            "rnbqkbnr/pp1ppppp/8/2p5/4P3/8/PPPP1PPP/RNBQKBNR w KQkq - 342\n",
            "rnbqkb1r/pppp1ppp/4pn2/8/2PP4/8/PP2PPPP/RNBQKBNR w KQkq - 349\n",
            "rnbqkbnr/pppppppp/8/8/4P3/8/PPPP1PPP/RNBQKBNR b KQkq - 470\n",
            "rnbqkb1r/pppppppp/5n2/8/2PP4/8/PP2PPPP/RNBQKBNR b KQkq - 519\n",
            "rnbqkb1r/pppppppp/5n2/8/3P4/8/PPP1PPPP/RNBQKBNR w KQkq - 570\n",
            "rnbqkbnr/pppppppp/8/8/3P4/8/PPP1PPPP/RNBQKBNR b KQkq - 1012\n",
            "rnbqkbnr/pppppppp/8/8/8/8/PPPPPPPP/RNBQKBNR w KQkq - 1809\n"
          ]
        }
      ],
      "source": [
        "myFilter = filter(lambda x: x[1]>10, myReduced)\n",
        "\n",
        "mySorted = sorted(myFilter, key=lambda x: x[1])\n",
        "\n",
        "for x, y in mySorted:\n",
        "    print(x, y)"
      ]
    },
    {
      "cell_type": "markdown",
      "metadata": {
        "id": "SzdInNalUEOj"
      },
      "source": [
        "### Question"
      ]
    },
    {
      "cell_type": "markdown",
      "metadata": {
        "id": "xlaroDzvUEOj"
      },
      "source": [
        "Il est clair que nous sommes encore sur du séquentiel et bien loin d’une approche Hadoop avec distribution du traitement entre plusieurs nœuds. Réfléchissez comment vous pouvez faire en sorte d’avoir une parallélisation des traitements. Est-ce au niveau du Map ? Au niveau du Reduce ? Qu’en est-il du Shuffle ? Donnez une explication qui servira de support pour la question suivante."
      ]
    },
    {
      "cell_type": "markdown",
      "metadata": {
        "id": "rQiGblWNUEOj"
      },
      "source": [
        "Nous pouvons instaurer un traitement en parallèle, avec plusieurs Mapper et plusieurs Reducer, nous pouvons avoir un traitement plus rapide. "
      ]
    },
    {
      "cell_type": "markdown",
      "metadata": {
        "id": "W0wFJfkWUEOl"
      },
      "source": [
        "### Question"
      ]
    },
    {
      "cell_type": "markdown",
      "metadata": {
        "id": "xKg05O7VUEOl"
      },
      "source": [
        "Mettre en place la proposition de la question 9. Regardez en quoi cela change quelque chose si vous augmentez le nombre de Map, le nombre de Reduce. Conservez les temps obtenus en fonction des différents cas envisagés"
      ]
    },
    {
      "cell_type": "markdown",
      "metadata": {
        "id": "7AcOFRjUUEOl"
      },
      "source": [
        "Présentation des solutions"
      ]
    },
    {
      "cell_type": "code",
      "execution_count": null,
      "metadata": {
        "id": "kR-zgHK_UEOl"
      },
      "outputs": [],
      "source": []
    }
  ],
  "metadata": {
    "colab": {
      "collapsed_sections": [
        "dWAtq7P8UEOi",
        "J7-u_dzuUEOi",
        "kaGCr9UdUEOj",
        "SzdInNalUEOj",
        "W0wFJfkWUEOl"
      ],
      "name": "Data 831 - TP1.ipynb",
      "provenance": []
    },
    "kernelspec": {
      "display_name": "Python 3 (ipykernel)",
      "language": "python",
      "name": "python3"
    },
    "language_info": {
      "codemirror_mode": {
        "name": "ipython",
        "version": 3
      },
      "file_extension": ".py",
      "mimetype": "text/x-python",
      "name": "python",
      "nbconvert_exporter": "python",
      "pygments_lexer": "ipython3",
      "version": "3.9.10"
    },
    "toc": {
      "base_numbering": 1,
      "nav_menu": {},
      "number_sections": true,
      "sideBar": true,
      "skip_h1_title": false,
      "title_cell": "Table of Contents",
      "title_sidebar": "Contents",
      "toc_cell": false,
      "toc_position": {},
      "toc_section_display": true,
      "toc_window_display": false
    }
  },
  "nbformat": 4,
  "nbformat_minor": 0
}
