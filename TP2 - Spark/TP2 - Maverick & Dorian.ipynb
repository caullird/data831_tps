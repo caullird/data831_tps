{
 "cells": [
  {
   "cell_type": "markdown",
   "metadata": {},
   "source": [
    "## ❇️ **TP2 - SPARK**\n",
    "---"
   ]
  },
  {
   "cell_type": "markdown",
   "metadata": {},
   "source": [
    "## 🏗️ **PARTIE 1 - INSTALLATION DE SPARK**\n",
    "\n",
    "L'objectif de cette partie est d'avoir une version de Spark stable et fonctionnelle, nous avons donc la configuration suivante : \n",
    "\n",
    "✅ Java 11 \n",
    "\n",
    "✅ Python 3.7\n",
    "\n",
    "✅ Spark version 2.4.5\n",
    "\n",
    "Pour la suite du TP nous allons majoritairement utilisé SPARK avec sous ce Jupyter."
   ]
  },
  {
   "cell_type": "code",
   "execution_count": 1,
   "metadata": {},
   "outputs": [],
   "source": [
    "import findspark\n",
    "findspark.init()\n",
    "import pyspark"
   ]
  },
  {
   "cell_type": "markdown",
   "metadata": {},
   "source": [
    "---\n",
    "\n",
    "## 🔍 **PARTIE 2 - DECOUVERTE DE SPARK**"
   ]
  },
  {
   "cell_type": "markdown",
   "metadata": {},
   "source": [
    "### **⏲️ - Exemple de World Count**"
   ]
  },
  {
   "cell_type": "markdown",
   "metadata": {},
   "source": [
    "Nous avons donc, dans ek fichier word_count.py le code suivant, il permet de compter un ensemble de mot dans un fichier texte."
   ]
  },
  {
   "cell_type": "code",
   "execution_count": null,
   "metadata": {},
   "outputs": [],
   "source": [
    "import sys\n",
    " \n",
    "from pyspark import SparkContext, SparkConf\n",
    " \n",
    "if __name__ == \"__main__\":\n",
    "\t\n",
    "\t# create Spark context with necessary configuration\n",
    "\tsc = SparkContext(\"local\",\"PySpark Word Count Exmaple\")\n",
    "\t\n",
    "\t# read data from text file and split each line into words\n",
    "\twords = sc.textFile(\"C:/GitHub/data831_tps/TP2 - Spark/data/text.txt\").flatMap(lambda line: line.split(\" \"))\n",
    "\t\n",
    "\t# count the occurrence of each word\n",
    "\twordCounts = words.map(lambda word: (word, 1)).reduceByKey(lambda a,b:a +b)\n",
    "\t\n",
    "\t# save the counts to output\n",
    "\twordCounts.saveAsTextFile(\"C:/GitHub/data831_tps/TP2 - Spark/result/world_count\")"
   ]
  },
  {
   "cell_type": "markdown",
   "metadata": {},
   "source": [
    "Nous avons donc dans le fichier \"data/text.txt\", la suite de mot suivante : \n",
    "\n",
    "\"ceci est un long texte pas très interessant\""
   ]
  },
  {
   "cell_type": "code",
   "execution_count": null,
   "metadata": {},
   "outputs": [],
   "source": [
    "!spark-submit .\\word_count.py"
   ]
  },
  {
   "cell_type": "markdown",
   "metadata": {},
   "source": [
    "Après exécution du code, nous avons le résultat sous la forme suivante : "
   ]
  },
  {
   "cell_type": "code",
   "execution_count": 2,
   "metadata": {},
   "outputs": [
    {
     "name": "stdout",
     "output_type": "stream",
     "text": [
      "('ceci', 1)\n",
      "('est', 1)\n",
      "('un', 1)\n",
      "('long', 1)\n",
      "('texte', 1)\n",
      "('pas', 1)\n",
      "('trÃ¨s', 1)\n",
      "('interessant', 1)\n",
      "\n"
     ]
    }
   ],
   "source": [
    "print(open(\"result/world_count/part-00000\", \"r\").read()) "
   ]
  },
  {
   "cell_type": "markdown",
   "metadata": {},
   "source": [
    "### **🧐 - Exemple avec RDD**\n",
    "\n",
    "L'object est ici d'apprendre l'utilisation de la fonction collect(). Elle va transformer le RDD en quelque chose qui ne sera pas un RDD."
   ]
  },
  {
   "cell_type": "markdown",
   "metadata": {},
   "source": [
    "---\n",
    "\n",
    "## ⚽ **PARTIE 3 - DES DONNEES DE CLUBS DE FOOT**"
   ]
  },
  {
   "cell_type": "markdown",
   "metadata": {},
   "source": [
    "Nous allons maintenant utiliser les différents outils avec des données. \n",
    "\n",
    "Nous allons utiliser un fichier de données sous format .csv"
   ]
  },
  {
   "cell_type": "code",
   "execution_count": null,
   "metadata": {},
   "outputs": [],
   "source": [
    "!pip install pandas"
   ]
  },
  {
   "cell_type": "code",
   "execution_count": 15,
   "metadata": {},
   "outputs": [
    {
     "name": "stdout",
     "output_type": "stream",
     "text": [
      "      id  assists_away_team  assists_home_team  attendance  away_goals  \\\n",
      "0      0                  0                  3       74363           1   \n",
      "1      1                  0                  3       60007           0   \n",
      "2      2                  1                  0       41494           1   \n",
      "3      3                  0                  0       36691           0   \n",
      "4      4                  1                  4       52183           1   \n",
      "..   ...                ...                ...         ...         ...   \n",
      "375  375                  1                  0       11155           1   \n",
      "376  376                  1                  2       39063           2   \n",
      "377  377                  2                  2       32242           2   \n",
      "378  378                  3                  1       27036           3   \n",
      "379  379                  0                  0       75261           0   \n",
      "\n",
      "                                    away_goals_details  \\\n",
      "0                             Chris Smalling (90+3 OG)   \n",
      "1                                                  NaN   \n",
      "2                               Daniel Drinkwater (82)   \n",
      "3                                                  NaN   \n",
      "4                                     Erik Lamela (60)   \n",
      "..                                                 ...   \n",
      "375                                  Rudy Gestede (72)   \n",
      "376                Miguel Layún (13),Odion Ighalo (83)   \n",
      "377            Jermain Defoe (60),Steven Fletcher (71)   \n",
      "378  Wilfried Zaha (39),Damien Delaney (49),Yohan C...   \n",
      "379                                                NaN   \n",
      "\n",
      "               away_manager       away_team  blocks_away_team  \\\n",
      "0                Eddie Howe     Bournemouth                 4   \n",
      "1                Eric Black     Aston Villa                 2   \n",
      "2           Claudio Ranieri       Leicester                 8   \n",
      "3                 Alex Neil         Norwich                 3   \n",
      "4       Mauricio Pochettino           Spurs                 6   \n",
      "..                      ...             ...               ...   \n",
      "375            Tim Sherwood     Aston Villa                 2   \n",
      "376  Enrique Sánchez Flores         Watford                 2   \n",
      "377           Dick Advocaat      Sunderland                 4   \n",
      "378             Alan Pardew  Crystal Palace                 2   \n",
      "379     Mauricio Pochettino           Spurs                 4   \n",
      "\n",
      "     blocks_home_team  ...  shots_off_target_home_team  \\\n",
      "0                   4  ...                           3   \n",
      "1                   3  ...                           7   \n",
      "2                   7  ...                           4   \n",
      "3                   2  ...                           4   \n",
      "4                   6  ...                           3   \n",
      "..                ...  ...                         ...   \n",
      "375                 2  ...                           7   \n",
      "376                 3  ...                           3   \n",
      "377                 2  ...                           7   \n",
      "378                 2  ...                           9   \n",
      "379                 3  ...                           4   \n",
      "\n",
      "     shots_on_target_away_team  shots_on_target_home_team  \\\n",
      "0                            0                          6   \n",
      "1                            3                          7   \n",
      "2                            5                          4   \n",
      "3                            2                          8   \n",
      "4                            5                         10   \n",
      "..                         ...                        ...   \n",
      "375                          3                          2   \n",
      "376                          5                          5   \n",
      "377                          5                          8   \n",
      "378                          7                          6   \n",
      "379                          5                          1   \n",
      "\n",
      "     throw_ins_away_team  throw_ins_home_team  total_shots_away_team  \\\n",
      "0                     24                   21                      3   \n",
      "1                     15                   11                      3   \n",
      "2                     26                   19                     11   \n",
      "3                     27                   21                      9   \n",
      "4                     26                   11                     12   \n",
      "..                   ...                  ...                    ...   \n",
      "375                   19                   30                      5   \n",
      "376                   14                   30                      8   \n",
      "377                   25                   21                      9   \n",
      "378                   19                   23                      9   \n",
      "379                   24                   25                      7   \n",
      "\n",
      "    total_shots_home_team               venue  yellow_cards_away_team  \\\n",
      "0                       9        Old Trafford                       0   \n",
      "1                      14    Emirates Stadium                       1   \n",
      "2                       8     Stamford Bridge                       0   \n",
      "3                      12       Goodison Park                       0   \n",
      "4                      13     St. James' Park                       2   \n",
      "..                    ...                 ...                     ...   \n",
      "375                     9    Vitality Stadium                       4   \n",
      "376                     8       Goodison Park                       2   \n",
      "377                    15  King Power Stadium                       4   \n",
      "378                    15         Carrow Road                       0   \n",
      "379                     5        Old Trafford                       3   \n",
      "\n",
      "     yellow_cards_home_team  \n",
      "0                         1  \n",
      "1                         0  \n",
      "2                         0  \n",
      "3                         0  \n",
      "4                         1  \n",
      "..                      ...  \n",
      "375                       3  \n",
      "376                       1  \n",
      "377                       2  \n",
      "378                       1  \n",
      "379                       2  \n",
      "\n",
      "[380 rows x 49 columns]\n"
     ]
    }
   ],
   "source": [
    "import pandas as pd\n",
    "\n",
    "df = pd.read_csv ('data/epl1.csv', sep=';')\n",
    "\n",
    "print(df)"
   ]
  },
  {
   "cell_type": "code",
   "execution_count": 16,
   "metadata": {},
   "outputs": [
    {
     "name": "stdout",
     "output_type": "stream",
     "text": [
      "<bound method NDFrame.head of       id  assists_away_team  assists_home_team  attendance  away_goals  \\\n",
      "0      0                  0                  3       74363           1   \n",
      "1      1                  0                  3       60007           0   \n",
      "2      2                  1                  0       41494           1   \n",
      "3      3                  0                  0       36691           0   \n",
      "4      4                  1                  4       52183           1   \n",
      "..   ...                ...                ...         ...         ...   \n",
      "375  375                  1                  0       11155           1   \n",
      "376  376                  1                  2       39063           2   \n",
      "377  377                  2                  2       32242           2   \n",
      "378  378                  3                  1       27036           3   \n",
      "379  379                  0                  0       75261           0   \n",
      "\n",
      "                                    away_goals_details  \\\n",
      "0                             Chris Smalling (90+3 OG)   \n",
      "1                                                  NaN   \n",
      "2                               Daniel Drinkwater (82)   \n",
      "3                                                  NaN   \n",
      "4                                     Erik Lamela (60)   \n",
      "..                                                 ...   \n",
      "375                                  Rudy Gestede (72)   \n",
      "376                Miguel Layún (13),Odion Ighalo (83)   \n",
      "377            Jermain Defoe (60),Steven Fletcher (71)   \n",
      "378  Wilfried Zaha (39),Damien Delaney (49),Yohan C...   \n",
      "379                                                NaN   \n",
      "\n",
      "               away_manager       away_team  blocks_away_team  \\\n",
      "0                Eddie Howe     Bournemouth                 4   \n",
      "1                Eric Black     Aston Villa                 2   \n",
      "2           Claudio Ranieri       Leicester                 8   \n",
      "3                 Alex Neil         Norwich                 3   \n",
      "4       Mauricio Pochettino           Spurs                 6   \n",
      "..                      ...             ...               ...   \n",
      "375            Tim Sherwood     Aston Villa                 2   \n",
      "376  Enrique Sánchez Flores         Watford                 2   \n",
      "377           Dick Advocaat      Sunderland                 4   \n",
      "378             Alan Pardew  Crystal Palace                 2   \n",
      "379     Mauricio Pochettino           Spurs                 4   \n",
      "\n",
      "     blocks_home_team  ...  shots_off_target_home_team  \\\n",
      "0                   4  ...                           3   \n",
      "1                   3  ...                           7   \n",
      "2                   7  ...                           4   \n",
      "3                   2  ...                           4   \n",
      "4                   6  ...                           3   \n",
      "..                ...  ...                         ...   \n",
      "375                 2  ...                           7   \n",
      "376                 3  ...                           3   \n",
      "377                 2  ...                           7   \n",
      "378                 2  ...                           9   \n",
      "379                 3  ...                           4   \n",
      "\n",
      "     shots_on_target_away_team  shots_on_target_home_team  \\\n",
      "0                            0                          6   \n",
      "1                            3                          7   \n",
      "2                            5                          4   \n",
      "3                            2                          8   \n",
      "4                            5                         10   \n",
      "..                         ...                        ...   \n",
      "375                          3                          2   \n",
      "376                          5                          5   \n",
      "377                          5                          8   \n",
      "378                          7                          6   \n",
      "379                          5                          1   \n",
      "\n",
      "     throw_ins_away_team  throw_ins_home_team  total_shots_away_team  \\\n",
      "0                     24                   21                      3   \n",
      "1                     15                   11                      3   \n",
      "2                     26                   19                     11   \n",
      "3                     27                   21                      9   \n",
      "4                     26                   11                     12   \n",
      "..                   ...                  ...                    ...   \n",
      "375                   19                   30                      5   \n",
      "376                   14                   30                      8   \n",
      "377                   25                   21                      9   \n",
      "378                   19                   23                      9   \n",
      "379                   24                   25                      7   \n",
      "\n",
      "    total_shots_home_team               venue  yellow_cards_away_team  \\\n",
      "0                       9        Old Trafford                       0   \n",
      "1                      14    Emirates Stadium                       1   \n",
      "2                       8     Stamford Bridge                       0   \n",
      "3                      12       Goodison Park                       0   \n",
      "4                      13     St. James' Park                       2   \n",
      "..                    ...                 ...                     ...   \n",
      "375                     9    Vitality Stadium                       4   \n",
      "376                     8       Goodison Park                       2   \n",
      "377                    15  King Power Stadium                       4   \n",
      "378                    15         Carrow Road                       0   \n",
      "379                     5        Old Trafford                       3   \n",
      "\n",
      "     yellow_cards_home_team  \n",
      "0                         1  \n",
      "1                         0  \n",
      "2                         0  \n",
      "3                         0  \n",
      "4                         1  \n",
      "..                      ...  \n",
      "375                       3  \n",
      "376                       1  \n",
      "377                       2  \n",
      "378                       1  \n",
      "379                       2  \n",
      "\n",
      "[380 rows x 49 columns]>\n"
     ]
    }
   ],
   "source": [
    "print(df.head)"
   ]
  }
 ],
 "metadata": {
  "interpreter": {
   "hash": "bdce65fd06b028e09e60a83868eb59a6f4b698afcdfaf4566618f453623599fb"
  },
  "kernelspec": {
   "display_name": "Python 3.7.9 64-bit (windows store)",
   "language": "python",
   "name": "python3"
  },
  "language_info": {
   "codemirror_mode": {
    "name": "ipython",
    "version": 3
   },
   "file_extension": ".py",
   "mimetype": "text/x-python",
   "name": "python",
   "nbconvert_exporter": "python",
   "pygments_lexer": "ipython3",
   "version": "3.7.9"
  },
  "orig_nbformat": 4
 },
 "nbformat": 4,
 "nbformat_minor": 2
}
