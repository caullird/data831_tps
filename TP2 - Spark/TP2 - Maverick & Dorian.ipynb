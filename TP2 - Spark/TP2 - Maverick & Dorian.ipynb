{
 "cells": [
  {
   "cell_type": "markdown",
   "metadata": {},
   "source": [
    "## ❇️ **TP2 - SPARK**\n",
    "---"
   ]
  },
  {
   "cell_type": "markdown",
   "metadata": {},
   "source": [
    "## 🏗️ **PARTIE 1 - INSTALLATION DE SPARK**\n",
    "\n",
    "L'objectif de cette partie est d'avoir une version de Spark stable et fonctionnelle, nous avons donc la configuration suivante : \n",
    "\n",
    "✅ Java 11 \n",
    "\n",
    "✅ Python 3.7\n",
    "\n",
    "✅ Spark version 2.4.5\n",
    "\n",
    "Pour la suite du TP nous allons majoritairement utilisé SPARK avec sous ce Jupyter."
   ]
  },
  {
   "cell_type": "code",
   "execution_count": 1,
   "metadata": {},
   "outputs": [],
   "source": [
    "import findspark\n",
    "findspark.init()\n",
    "import pyspark"
   ]
  },
  {
   "cell_type": "markdown",
   "metadata": {},
   "source": [
    "---\n",
    "\n",
    "## 🔍 **PARTIE 2 - DECOUVERTE DE SPARK**"
   ]
  },
  {
   "cell_type": "markdown",
   "metadata": {},
   "source": [
    "### **⏲️ - Exemple de World Count**"
   ]
  },
  {
   "cell_type": "markdown",
   "metadata": {},
   "source": [
    "Nous avons donc, dans ek fichier word_count.py le code suivant, il permet de compter un ensemble de mot dans un fichier texte."
   ]
  },
  {
   "cell_type": "code",
   "execution_count": null,
   "metadata": {},
   "outputs": [],
   "source": [
    "import sys\n",
    " \n",
    "from pyspark import SparkContext, SparkConf\n",
    " \n",
    "if __name__ == \"__main__\":\n",
    "\t\n",
    "\t# create Spark context with necessary configuration\n",
    "\tsc = SparkContext(\"local\",\"PySpark Word Count Exmaple\")\n",
    "\t\n",
    "\t# read data from text file and split each line into words\n",
    "\twords = sc.textFile(\"C:/GitHub/data831_tps/TP2 - Spark/data/text.txt\").flatMap(lambda line: line.split(\" \"))\n",
    "\t\n",
    "\t# count the occurrence of each word\n",
    "\twordCounts = words.map(lambda word: (word, 1)).reduceByKey(lambda a,b:a +b)\n",
    "\t\n",
    "\t# save the counts to output\n",
    "\twordCounts.saveAsTextFile(\"C:/GitHub/data831_tps/TP2 - Spark/result/world_count\")"
   ]
  },
  {
   "cell_type": "markdown",
   "metadata": {},
   "source": [
    "Nous avons donc dans le fichier \"data/text.txt\", la suite de mot suivante : \n",
    "\n",
    "\"ceci est un long texte pas très interessant\""
   ]
  },
  {
   "cell_type": "code",
   "execution_count": null,
   "metadata": {},
   "outputs": [],
   "source": [
    "!spark-submit .\\word_count.py"
   ]
  },
  {
   "cell_type": "markdown",
   "metadata": {},
   "source": [
    "Après exécution du code, nous avons le résultat sous la forme suivante : "
   ]
  },
  {
   "cell_type": "code",
   "execution_count": 2,
   "metadata": {},
   "outputs": [
    {
     "name": "stdout",
     "output_type": "stream",
     "text": [
      "('ceci', 1)\n",
      "('est', 1)\n",
      "('un', 1)\n",
      "('long', 1)\n",
      "('texte', 1)\n",
      "('pas', 1)\n",
      "('trÃ¨s', 1)\n",
      "('interessant', 1)\n",
      "\n"
     ]
    }
   ],
   "source": [
    "print(open(\"result/world_count/part-00000\", \"r\").read()) "
   ]
  },
  {
   "cell_type": "markdown",
   "metadata": {},
   "source": [
    "### **🧐 - Exemple avec RDD**\n",
    "\n",
    "L'object est ici d'apprendre l'utilisation de la fonction collect(). Elle va transformer le RDD en quelque chose qui ne sera pas un RDD."
   ]
  }
 ],
 "metadata": {
  "interpreter": {
   "hash": "bdce65fd06b028e09e60a83868eb59a6f4b698afcdfaf4566618f453623599fb"
  },
  "kernelspec": {
   "display_name": "Python 3.7.9 64-bit (windows store)",
   "language": "python",
   "name": "python3"
  },
  "language_info": {
   "codemirror_mode": {
    "name": "ipython",
    "version": 3
   },
   "file_extension": ".py",
   "mimetype": "text/x-python",
   "name": "python",
   "nbconvert_exporter": "python",
   "pygments_lexer": "ipython3",
   "version": "3.7.9"
  },
  "orig_nbformat": 4
 },
 "nbformat": 4,
 "nbformat_minor": 2
}
